{
 "cells": [
  {
   "cell_type": "markdown",
   "id": "e58aae7b-88b8-4679-9a7a-f1483eb50db6",
   "metadata": {},
   "source": [
    "Q1: What is Estimation Statistics? Explain point estimate and interval estimate."
   ]
  },
  {
   "cell_type": "markdown",
   "id": "44622cc7-d5c4-4c1d-8c01-3b7e0d4126ae",
   "metadata": {},
   "source": [
    "Estimation statistics refers to the process of using sample data to estimate population parameters. It involves making inferences or predictions about a population based on the information gathered from a sample.\n",
    "\n",
    "Point estimate is a single value that is used to estimate an unknown population parameter. It is obtained by using a statistic, such as the sample mean or sample proportion, to estimate a corresponding population parameter, such as the population mean or population proportion. Point estimates provide a single value that is the best guess for the parameter of interest, but they do not provide any information about the uncertainty or variability associated with the estimate.\n",
    "\n",
    "Interval estimate, on the other hand, provides a range of values within which the population parameter is likely to lie. It takes into account the variability in the sample data and provides a measure of uncertainty associated with the estimate. Interval estimates are typically expressed as a confidence interval, which is a range of values that is likely to contain the population parameter with a certain level of confidence. For example, a 95% confidence interval for the population mean would provide a range of values within which we can be 95% confident that the true population mean lies."
   ]
  },
  {
   "cell_type": "markdown",
   "id": "5a3838f4-a279-4155-bbc6-31d9b3a1833b",
   "metadata": {},
   "source": [
    "Q2. Write a Python function to estimate the population mean using a sample mean and standard\n",
    "deviation."
   ]
  },
  {
   "cell_type": "code",
   "execution_count": null,
   "id": "d01554ca-061e-4965-a36c-ffcd92a18c6f",
   "metadata": {},
   "outputs": [],
   "source": []
  },
  {
   "cell_type": "markdown",
   "id": "bc1f685c-8ad3-45e4-80c4-75c0f5f27df0",
   "metadata": {},
   "source": [
    "Q3: What is Hypothesis testing? Why is it used? State the importance of Hypothesis testing."
   ]
  },
  {
   "cell_type": "markdown",
   "id": "7462027b-d6b6-4280-9fcf-64381e174184",
   "metadata": {},
   "source": [
    "Hypothesis testing is a statistical method used to make inferences or draw conclusions about a population based on a sample data. It involves formulating a hypothesis, collecting and analyzing data, and determining whether the data supports or contradicts the hypothesis.\n",
    "\n",
    "Hypothesis testing is used in various fields, including scientific research, business, medicine, and social sciences. It allows researchers to test the validity of a claim or assumption by providing evidence from the data. It helps in making informed decisions, understanding relationships between variables, and validating theories or hypotheses.\n",
    "\n",
    "The importance of hypothesis testing lies in its ability to provide objective and reliable results. It helps in avoiding biases and making decisions based on evidence rather than assumptions or personal opinions. By testing hypotheses, researchers can contribute to the body of knowledge and ensure that their findings are valid and trustworthy. Additionally, hypothesis testing also allows for the identification of errors or flaws in existing theories or assumptions, leading to further refinement and improvement in understanding."
   ]
  },
  {
   "cell_type": "markdown",
   "id": "2768985b-cac5-4a05-9f04-c88f1867ae3d",
   "metadata": {},
   "source": [
    "Q4. Create a hypothesis that states whether the average weight of male college students is greater than\n",
    "the average weight of female college students."
   ]
  },
  {
   "cell_type": "code",
   "execution_count": 10,
   "id": "2da052f3-e3c1-47de-bdf9-d9a19a835889",
   "metadata": {},
   "outputs": [
    {
     "name": "stdout",
     "output_type": "stream",
     "text": [
      "accept the null hypothesis\n"
     ]
    }
   ],
   "source": [
    "import numpy as np\n",
    "\n",
    "##Let take a sample data from a college \n",
    "weight_of_males =[55,71,57,64,56,65,69,72,74,66,55,68,72]\n",
    "weight_of_females=[46,52,58,49,47,55,48,57,56,60,42,44,58]\n",
    "\n",
    "##Null hypothesis:  the average weight of male college students is greater than the average weight of female college students.\n",
    "##Alternate hypothesis:  the average weight of male college students is not greater than the average weight of female college students.\n",
    "\n",
    "avg_weight_males = sum(weight_of_males)/len(weight_of_males)\n",
    "avg_weight_females = sum(weight_of_females)/len(weight_of_females)\n",
    "\n",
    "if(avg_weight_males>avg_weight_females):\n",
    "    print(\"accept the null hypothesis\")\n",
    "    \n",
    "else:\n",
    "    print(\"reject the null hypothesis\")"
   ]
  },
  {
   "cell_type": "markdown",
   "id": "ae1ca660-9d50-40a0-a6b4-526e36ea3f91",
   "metadata": {},
   "source": [
    "Q5. Write a Python script to conduct a hypothesis test on the difference between two population means,\n",
    "given a sample from each population."
   ]
  },
  {
   "cell_type": "code",
   "execution_count": null,
   "id": "9d83f821-278a-42ed-a306-5a5059c0a20a",
   "metadata": {},
   "outputs": [],
   "source": []
  },
  {
   "cell_type": "markdown",
   "id": "99841717-b679-4ff5-a6f4-342c8f59926a",
   "metadata": {},
   "source": [
    "Q6: What is a null and alternative hypothesis? Give some examples."
   ]
  },
  {
   "cell_type": "markdown",
   "id": "a59c9601-6ab1-40f2-875e-6d8716c33a80",
   "metadata": {},
   "source": [
    "A null hypothesis is a statement that assumes there is no significant relationship or difference between variables in a population. It is usually denoted as H0. The null hypothesis suggests that any observed difference or relationship in a sample is due to random chance.\n",
    "\n",
    "On the other hand, an alternative hypothesis is a statement that contradicts or challenges the null hypothesis. It suggests that there is a significant relationship or difference between variables in a population. It is denoted as Ha or H1.\n",
    "\n",
    "Here are a couple of examples to illustrate null and alternative hypotheses:\n",
    "\n",
    "1. Example for a null hypothesis:\n",
    "   - Null hypothesis: There is no significant difference in the mean heights of male and female adults.\n",
    "   - Alternative hypothesis: There is a significant difference in the mean heights of male and female adults.\n",
    "\n",
    "2. Example for a null hypothesis:\n",
    "   - Null hypothesis: There is no significant relationship between hours of studying and exam scores.\n",
    "   - Alternative hypothesis: There is a significant relationship between hours of studying and exam scores.\n",
    "\n",
    "In both examples, the null hypothesis assumes no difference or relationship, while the alternative hypothesis suggests the presence of a difference or relationship. These hypotheses are then tested using statistical methods to determine if the null hypothesis can be rejected in favor of the alternative hypothesis."
   ]
  },
  {
   "cell_type": "markdown",
   "id": "e263efca-1f2d-458e-a5cf-db52984f1de2",
   "metadata": {},
   "source": [
    "Q7: Write down the steps involved in hypothesis testing."
   ]
  },
  {
   "cell_type": "markdown",
   "id": "a48dc0ae-db4c-4b81-82ba-f8cdf8b2eeaf",
   "metadata": {},
   "source": [
    "Hypothesis testing is a statistical method used to make inferences or draw conclusions about a population based on a sample data. The steps involved in hypothesis testing are as follows:\n",
    "\n",
    "1. State the null hypothesis (H0) and alternative hypothesis (H1): The null hypothesis represents the status quo or no effect, while the alternative hypothesis represents the claim or effect being tested.\n",
    "\n",
    "2. Set the significance level (α): The significance level is the probability of rejecting the null hypothesis when it is true. Commonly used values for α are 0.05 or 0.01.\n",
    "\n",
    "3. Collect and analyze the sample data: Gather a representative sample from the population and perform the necessary statistical analysis to obtain the sample statistics.\n",
    "\n",
    "4. Determine the test statistic: Calculate the test statistic based on the sample data and the hypothesis being tested. The test statistic depends on the type of hypothesis test being conducted (e.g., t-test, z-test, chi-square test).\n",
    "\n",
    "5. Calculate the p-value: The p-value is the probability of obtaining a test statistic as extreme as or more extreme than the observed value, assuming the null hypothesis is true. It indicates the strength of evidence against the null hypothesis.\n",
    "\n",
    "6. Make a decision: Compare the p-value to the significance level. If the p-value is less than the significance level, reject the null hypothesis in favor of the alternative hypothesis. If the p-value is greater than or equal to the significance level, fail to reject the null hypothesis.\n",
    "\n",
    "7. Interpret the results: If the null hypothesis is rejected, it suggests that there is sufficient evidence to support the alternative hypothesis. If the null hypothesis is not rejected, it indicates that there is not enough evidence to support the alternative hypothesis.\n",
    "\n",
    "8. Draw conclusions: Based on the results of the hypothesis test, draw conclusions about the population being studied. These conclusions should be made in the context of the problem or research question.\n",
    "\n",
    "It is important to note that hypothesis testing is not a definitive proof, but rather a way to make statistically informed decisions based on available evidence."
   ]
  },
  {
   "cell_type": "markdown",
   "id": "756b89ec-edc6-4e40-a3e5-f11337560bab",
   "metadata": {},
   "source": [
    "Q8. Define p-value and explain its significance in hypothesis testing."
   ]
  },
  {
   "cell_type": "markdown",
   "id": "575ce17e-90a1-40a5-bd1e-a31a8e37790f",
   "metadata": {},
   "source": [
    "The p-value is a statistical measure used in hypothesis testing to determine the strength of evidence against the null hypothesis. It quantifies the probability of obtaining a test statistic as extreme as the one observed, assuming that the null hypothesis is true.\n",
    "\n",
    "In hypothesis testing, the null hypothesis is a statement that assumes there is no significant difference or relationship between variables. The alternative hypothesis, on the other hand, suggests that there is a significant difference or relationship.\n",
    "\n",
    "The p-value helps researchers make a decision about whether to reject or fail to reject the null hypothesis. If the p-value is less than a predetermined significance level (usually 0.05 or 0.01), it is considered statistically significant. This means that the observed data is unlikely to have occurred by chance alone, and we have enough evidence to reject the null hypothesis in favor of the alternative hypothesis.\n",
    "\n",
    "Conversely, if the p-value is greater than the significance level, it is not statistically significant. This means that the observed data is likely to have occurred by chance, and we fail to reject the null hypothesis. However, it is important to note that failing to reject the null hypothesis does not necessarily mean that the null hypothesis is true; it simply means that there is not enough evidence to support the alternative hypothesis.\n",
    "\n",
    "In summary, the p-value is a crucial component of hypothesis testing as it provides a measure of the strength of evidence against the null hypothesis. It helps researchers make informed decisions about the validity of their hypotheses and draw conclusions based on the observed data."
   ]
  },
  {
   "cell_type": "markdown",
   "id": "447c6eeb-8596-4177-a284-01d2c09e33a8",
   "metadata": {},
   "source": [
    "Q9. Generate a Student's t-distribution plot using Python's matplotlib library, with the degrees of freedom\n",
    "parameter set to 10."
   ]
  },
  {
   "cell_type": "code",
   "execution_count": 11,
   "id": "cce5187f-0ddc-4f8d-abf3-6bc34f1143b0",
   "metadata": {},
   "outputs": [
    {
     "data": {
      "image/png": "[encoded data removed]",
      "text/plain": [
       "<Figure size 640x480 with 1 Axes>"
      ]
     },
     "metadata": {},
     "output_type": "display_data"
    }
   ],
   "source": [
    "import numpy as np\n",
    "import matplotlib.pyplot as plt\n",
    "\n",
    "df = 10\n",
    "x = np.linspace(-5, 5, 1000)\n",
    "y = (1 / np.sqrt(df * np.pi)) * (1 + (x ** 2) / df) ** (-0.5 * (df + 1))\n",
    "plt.plot(x, y)\n",
    "plt.title(\"Student's t-distribution plot with degrees of freedom parameter set to 10\")\n",
    "plt.xlabel('x')\n",
    "plt.ylabel('y')\n",
    "plt.show()\n"
   ]
  },
  {
   "cell_type": "markdown",
   "id": "87d984c7-ece1-4d07-afa2-c33c3713f849",
   "metadata": {},
   "source": [
    "Q10. Write a Python program to calculate the two-sample t-test for independent samples, given two\n",
    "random samples of equal size and a null hypothesis that the population means are equal."
   ]
  },
  {
   "cell_type": "code",
   "execution_count": 12,
   "id": "978b5bdd-775f-47fe-90f0-e531373af53a",
   "metadata": {},
   "outputs": [
    {
     "name": "stdout",
     "output_type": "stream",
     "text": [
      "t-statistic: 0.2382986601465223\n",
      "p-value: 0.8118958969560026\n"
     ]
    }
   ],
   "source": [
    "import numpy as np\n",
    "from scipy.stats import ttest_ind\n",
    "\n",
    "# Generate two random samples of equal size\n",
    "sample1 = np.random.normal(0, 1, 100)\n",
    "sample2 = np.random.normal(0, 1, 100)\n",
    "\n",
    "# Calculate the t-statistic and p-value\n",
    "t_statistic, p_value = ttest_ind(sample1, sample2)\n",
    "\n",
    "# Print the results\n",
    "print(\"t-statistic:\", t_statistic)\n",
    "print(\"p-value:\", p_value)\n"
   ]
  },
  {
   "cell_type": "markdown",
   "id": "4f9039f4-92e1-46f6-8e09-d597509bfb44",
   "metadata": {},
   "source": [
    "Q11: What is Student’s t distribution? When to use the t-Distribution."
   ]
  },
  {
   "cell_type": "markdown",
   "id": "f86ec4e7-82da-43b1-acac-778b551c4675",
   "metadata": {},
   "source": [
    "The Student's t distribution is a probability distribution that is used in statistical inference. It is similar to the normal distribution but has thicker tails, meaning it has more probability in the tails and less in the center. \n",
    "\n",
    "The t-distribution is typically used when the sample size is small (less than 30) and the population standard deviation is unknown. It is commonly used in hypothesis testing and constructing confidence intervals for small sample sizes. \n",
    "\n",
    "In summary, the t-distribution is used in situations where the sample size is small and the population standard deviation is unknown, providing a more accurate estimation of the population parameters."
   ]
  },
  {
   "cell_type": "markdown",
   "id": "0b6ff54d-032e-4820-a6cf-93534db14afa",
   "metadata": {},
   "source": [
    "Q12: What is t-statistic? State the formula for t-statistic."
   ]
  },
  {
   "cell_type": "markdown",
   "id": "e838f7a4-1026-4b57-8a50-db27d8326313",
   "metadata": {},
   "source": [
    "The t-statistic is a measure used in hypothesis testing to determine if the difference between two groups is statistically significant. It is used when the sample size is small or when the population standard deviation is unknown.\n",
    "\n",
    "The formula for the t-statistic is:\n",
    "\n",
    "t = (x1 - x2) / (s * sqrt(1/n1 + 1/n2))\n",
    "\n",
    "where:\n",
    "- t is the t-statistic\n",
    "- x1 and x2 are the means of the two groups being compared\n",
    "- s is the pooled standard deviation of the two groups\n",
    "- n1 and n2 are the sample sizes of the two groups\n",
    "\n",
    "The t-statistic is then compared to a critical value from the t-distribution to determine if the difference between the groups is statistically significant."
   ]
  },
  {
   "cell_type": "markdown",
   "id": "9da058ab-ebca-4dfe-be0a-1a8f3abd6d52",
   "metadata": {},
   "source": [
    "Q13. A coffee shop owner wants to estimate the average daily revenue for their shop. They take a random\n",
    "sample of 50 days and find the sample mean revenue to be $500 with a standard deviation of $50.\n",
    "Estimate the population mean revenue with a 95% confidence interval."
   ]
  },
  {
   "cell_type": "markdown",
   "id": "7300708e-1aac-4c4f-8aef-ca61dbfe1e5d",
   "metadata": {},
   "source": [
    "To estimate the population mean revenue with a 95% confidence interval, we can use the formula:\n",
    "\n",
    "CI = x̄ ± z*(σ/√n)\n",
    "Copy\n",
    "where x̄ is the sample mean revenue, σ is the standard deviation of the sample revenue, n is the sample size, and z* is the z-score corresponding to the desired confidence level. For a 95% confidence level, z* is 1.96.\n",
    "\n",
    "Substituting the given values in the formula:\n",
    "\n",
    "CI = 500 ± 1.96*(50/√50)\n",
    "   = 500 ± 13.82\n",
    "Copy\n",
    "Therefore, we can estimate with 95% confidence that the population mean revenue lies between $486.18 and $513.82"
   ]
  },
  {
   "cell_type": "markdown",
   "id": "2d391813-a5be-423e-9809-ca81ad9691b1",
   "metadata": {},
   "source": [
    "Q14. A researcher hypothesizes that a new drug will decrease blood pressure by 10 mmHg. They conduct a\n",
    "clinical trial with 100 patients and find that the sample mean decrease in blood pressure is 8 mmHg with a\n",
    "standard deviation of 3 mmHg. Test the hypothesis with a significance level of 0.05."
   ]
  },
  {
   "cell_type": "code",
   "execution_count": 13,
   "id": "a3fd0c3c-05a5-4894-85ee-8b6f8420d79d",
   "metadata": {},
   "outputs": [
    {
     "name": "stdout",
     "output_type": "stream",
     "text": [
      "Reject the null hypothesis.\n"
     ]
    }
   ],
   "source": [
    "import math\n",
    "import scipy.stats as st     \n",
    "\n",
    "##The null hypothesis is that the mean decrease in blood pressure is 10 mmHg. \n",
    "##The alternative hypothesis is that the mean decrease in blood pressure is less than 10 mmHg.\n",
    "n = 100\n",
    "x_bar = 8\n",
    "mu = 10\n",
    "s = 3\n",
    "alpha = 0.05\n",
    "\n",
    "t = (x_bar - mu) / (s / math.sqrt(n))\n",
    "df = n - 1\n",
    "\n",
    "t_critical = -1 * abs(round(st.t.ppf(alpha, df), 2))\n",
    "\n",
    "if t < t_critical:\n",
    "    print(\"Reject the null hypothesis.\")\n",
    "else:\n",
    "    print(\"Fail to reject the null hypothesis.\")\n"
   ]
  },
  {
   "cell_type": "markdown",
   "id": "23e432c0-a938-415f-96a2-710556f321bc",
   "metadata": {},
   "source": [
    "Q15. An electronics company produces a certain type of product with a mean weight of 5 pounds and a\n",
    "standard deviation of 0.5 pounds. A random sample of 25 products is taken, and the sample mean weight\n",
    "is found to be 4.8 pounds. Test the hypothesis that the true mean weight of the products is less than 5\n",
    "pounds with a significance level of 0.01."
   ]
  },
  {
   "cell_type": "code",
   "execution_count": 14,
   "id": "692e0083-f07f-465e-bc5b-a44ef7f03a2b",
   "metadata": {},
   "outputs": [
    {
     "name": "stdout",
     "output_type": "stream",
     "text": [
      "fail to Reject the null hypothesis\n"
     ]
    }
   ],
   "source": [
    "## null hypothesis: Electric Company product mean weight is 5 pound\n",
    "## Alternative hypothesis : Electric company product mean weight is less or not equal to 5 pound\n",
    "\n",
    "mu = 5\n",
    "x_bar = 4.8\n",
    "alpha = 0.01\n",
    "n = 25\n",
    "std = 0.5 \n",
    "df = n-1\n",
    "\n",
    "t_valve = (x_bar-mu)/(std/math.sqrt(n))\n",
    "\n",
    "critical_value = -1*abs(round(st.t.ppf(alpha,df),3))\n",
    "\n",
    "if t_valve<critical_value:\n",
    "    print(\"Reject the null hypothesis\")\n",
    "    \n",
    "else:\n",
    "    print(\"fail to Reject the null hypothesis\")"
   ]
  },
  {
   "cell_type": "markdown",
   "id": "8347546d-4839-442d-9cec-7d3181de6683",
   "metadata": {},
   "source": [
    "Q16. Two groups of students are given different study materials to prepare for a test. The first group (n1 =\n",
    "30) has a mean score of 80 with a standard deviation of 10, and the second group (n2 = 40) has a mean\n",
    "score of 75 with a standard deviation of 8. Test the hypothesis that the population means for the two\n",
    "groups are equal with a significance level of 0.01."
   ]
  },
  {
   "cell_type": "code",
   "execution_count": 15,
   "id": "249ab848-32c5-40ae-805b-7dc2954e49fa",
   "metadata": {},
   "outputs": [
    {
     "name": "stdout",
     "output_type": "stream",
     "text": [
      "fail to Reject the null hypothesis\n"
     ]
    }
   ],
   "source": [
    "\n",
    "##The null hypothesis is that the population means for the two groups are equal, \n",
    "##alternative hypothesis is that they are not equal.\n",
    "\n",
    "n1=30\n",
    "x1_bar = 80\n",
    "sigma1 =10\n",
    "\n",
    "n2 = 40\n",
    "x2_bar = 75\n",
    "sigma2= 8\n",
    "\n",
    "alpha = 0.01\n",
    "df= n1+n2-2\n",
    "\n",
    "t_val = (x1_bar-x2_bar)/np.sqrt((sigma1**2/n1)+(sigma2**2/n2))\n",
    "critical_value = -1*abs(round(st.t.ppf(alpha,df),3))\n",
    "\n",
    "\n",
    "if t_val<critical_value:\n",
    "    print(\"Reject the null hypothesis\")\n",
    "    \n",
    "else:\n",
    "    print(\"fail to Reject the null hypothesis\")\n"
   ]
  },
  {
   "cell_type": "markdown",
   "id": "98a53c17-c68b-49fd-ba1c-e68250fdfcb1",
   "metadata": {},
   "source": [
    "Q17. A marketing company wants to estimate the average number of ads watched by viewers during a TV\n",
    "program. They take a random sample of 50 viewers and find that the sample mean is 4 with a standard\n",
    "deviation of 1.5. Estimate the population mean with a 99% confidence interval."
   ]
  },
  {
   "cell_type": "code",
   "execution_count": 16,
   "id": "60be9863-35f5-4d51-910c-4243930ead69",
   "metadata": {},
   "outputs": [
    {
     "name": "stdout",
     "output_type": "stream",
     "text": [
      "We can estimate with 99% confidence that the average number of ads watched by viewers during a TV program is between **3.45** and **4.55**.\n"
     ]
    }
   ],
   "source": [
    "import math\n",
    "\n",
    "# Define the sample data\n",
    "n = 50\n",
    "x_bar = 4\n",
    "s = 1.5\n",
    "z = 2.58\n",
    "\n",
    "# Calculate the confidence interval\n",
    "ci = (x_bar - z * s / math.sqrt(n), x_bar + z * s / math.sqrt(n))\n",
    "\n",
    "# Print the results\n",
    "print(f\"We can estimate with 99% confidence that the average number of ads watched by viewers during a TV program is between **{ci[0]:.2f}** and **{ci[1]:.2f}**.\")\n"
   ]
  },
  {
   "cell_type": "code",
   "execution_count": null,
   "id": "262df663-c274-40ce-a7bf-8a704e4e2570",
   "metadata": {},
   "outputs": [],
   "source": []
  },
  {
   "cell_type": "code",
   "execution_count": null,
   "id": "a9e2671a-a3f5-46c6-ad2b-0480e2308d77",
   "metadata": {},
   "outputs": [],
   "source": []
  }
 ],
 "metadata": {
  "kernelspec": {
   "display_name": "Python 3 (ipykernel)",
   "language": "python",
   "name": "python3"
  },
  "language_info": {
   "codemirror_mode": {
    "name": "ipython",
    "version": 3
   },
   "file_extension": ".py",
   "mimetype": "text/x-python",
   "name": "python",
   "nbconvert_exporter": "python",
   "pygments_lexer": "ipython3",
   "version": "3.10.8"
  }
 },
 "nbformat": 4,
 "nbformat_minor": 5
}
