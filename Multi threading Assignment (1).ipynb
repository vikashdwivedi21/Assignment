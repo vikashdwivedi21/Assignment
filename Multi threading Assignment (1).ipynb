{
 "cells": [
  {
   "cell_type": "code",
   "execution_count": 1,
   "id": "0db30495-042e-4120-8076-6a8de32566bb",
   "metadata": {},
   "outputs": [
    {
     "name": "stdout",
     "output_type": "stream",
     "text": [
      "This is my thread function.\n"
     ]
    }
   ],
   "source": [
    "#Q1. What  is multithreading in python? hy is it used? Name the module used to handle threads in python\n",
    "\n",
    "\"\"\"Multithreading is a programming technique that allows a single program to run multiple tasks\n",
    "simultaneously. This can be useful for tasks that can be broken down into smaller, independent tasks, \n",
    "such as downloading files, processing images, or sending emails.\"\"\"\n",
    "\n",
    "import threading\n",
    "\n",
    "def my_thread_function():\n",
    "    print(\"This is my thread function.\")\n",
    "\n",
    "thread = threading.Thread(target=my_thread_function)\n",
    "thread.start()"
   ]
  },
  {
   "cell_type": "code",
   "execution_count": 2,
   "id": "4fa75ac2-0ff0-4f8f-816c-de3e93f9bd12",
   "metadata": {},
   "outputs": [
    {
     "name": "stdout",
     "output_type": "stream",
     "text": [
      "There are 8 active threads.\n",
      "The current thread is <_MainThread(MainThread, started 139683629778752)>\n",
      "<_MainThread(MainThread, started 139683629778752)>\n",
      "<Thread(IOPub, started daemon 139683559249472)>\n",
      "<Heartbeat(Heartbeat, started daemon 139683476534848)>\n",
      "<Thread(Thread-3 (_watch_pipe_fd), started daemon 139683451356736)>\n",
      "<Thread(Thread-4 (_watch_pipe_fd), started daemon 139683442964032)>\n",
      "<ControlThread(Control, started daemon 139683434571328)>\n",
      "<HistorySavingThread(IPythonHistorySavingThread, started 139683426178624)>\n",
      "<ParentPollerUnix(Thread-2, started daemon 139683006772800)>\n"
     ]
    },
    {
     "name": "stderr",
     "output_type": "stream",
     "text": [
      "/tmp/ipykernel_1100/122310199.py:17: DeprecationWarning: activeCount() is deprecated, use active_count() instead\n",
      "  print(\"There are {} active threads.\".format(threading.activeCount()))\n",
      "/tmp/ipykernel_1100/122310199.py:18: DeprecationWarning: currentThread() is deprecated, use current_thread() instead\n",
      "  print(\"The current thread is {}\".format(threading.currentThread()))\n"
     ]
    }
   ],
   "source": [
    "#.Q2.why threading module used? write the use of the following functions\n",
    "#1. activeCount\n",
    "#2.currentThread\n",
    "#3.enumerate\n",
    "\n",
    "\"\"\"The threading module in Python is used to create and manage threads. \n",
    "Threads are lightweight processes that can run concurrently with each other. \n",
    "This allows Python programs to be more responsive and efficient.\n",
    "\"\"\"\n",
    "\n",
    "import threading\n",
    "\n",
    "def my_thread():\n",
    "    print(\"this is my threding function\")\n",
    "    \n",
    "thread = threading.Thread(target= my_thread)\n",
    "print(\"There are {} active threads.\".format(threading.activeCount()))\n",
    "print(\"The current thread is {}\".format(threading.currentThread()))\n",
    "for thread in threading.enumerate():\n",
    "    print(thread)\n",
    "          "
   ]
  },
  {
   "cell_type": "code",
   "execution_count": 7,
   "id": "4df550a8-eda0-4456-bb7d-20c6a6be9fc5",
   "metadata": {},
   "outputs": [
    {
     "name": "stdout",
     "output_type": "stream",
     "text": [
      "this is my threading function\n",
      "thread is running\n",
      "The thread has finished running.\n",
      "The thread has finished running.\n"
     ]
    }
   ],
   "source": [
    "#Q3. Explain the following functions\n",
    "#1. run\n",
    "#2. start\n",
    "#3. join\n",
    "#4 .isAlive\n",
    "\n",
    "import threading\n",
    "\n",
    "def my_thread():\n",
    "    print(\"this is my threading function\")\n",
    "    \n",
    "thread = threading.Thread(target=my_thread)\n",
    "thread.start()\n",
    "\n",
    "print(\"thread is running\")\n",
    "thread.join()\n",
    "\n",
    "print(\"The thread has finished running.\")\n",
    "\n",
    "while thread.is_alive():\n",
    "    print(\"thread is running\")\n",
    "    \n",
    "print(\"The thread has finished running.\")"
   ]
  },
  {
   "cell_type": "code",
   "execution_count": 12,
   "id": "d6fbda42-7a0c-4434-bd18-d182db1ee09f",
   "metadata": {},
   "outputs": [
    {
     "name": "stdout",
     "output_type": "stream",
     "text": [
      "Squre:\n",
      "1\n",
      "25\n",
      "9\n",
      "64\n",
      "81\n",
      "\n",
      "Cube:\n",
      "1\n",
      "125\n",
      "27\n",
      "512\n",
      "729\n"
     ]
    }
   ],
   "source": [
    "#Q4. Write a python program to create two threads. Thread one must print the list of squares and thread\n",
    "#two must print the list of cubes\n",
    "\n",
    "import threading\n",
    "\n",
    "mylist = [1,5,3,8,9]\n",
    "\n",
    "def squr(l):\n",
    "    for i in l:\n",
    "        print( i**2)\n",
    "    \n",
    "def cube(l):\n",
    "    for j in l:\n",
    "        print( j**3)\n",
    "    \n",
    "thread1 = threading.Thread(target= squr, args=(mylist,))\n",
    "thread2 = threading.Thread(target= cube, args=(mylist,))\n",
    "print(\"Squre:\")\n",
    "thread1.start()\n",
    "print(\"\\nCube:\")\n",
    "thread2.start()"
   ]
  },
  {
   "cell_type": "code",
   "execution_count": 13,
   "id": "8e469013-9de3-4604-ad73-64646e83c24b",
   "metadata": {},
   "outputs": [
    {
     "data": {
      "text/plain": [
       "'Advantages:\\n\\nIncreased performance: Multithreading can improve the performance of a program by allowing\\nmultiple tasks to be executed at the same time. This can be especially beneficial for programs\\nthat are CPU-intensive or that have to interact with a slow external resource.\\n\\nImproved responsiveness: Multithreading can make a program more responsive to user input.\\nThis is because if a task is blocking the main thread, the user will not be able to interact \\nwith the program until the task is finished. By using multithreading, the main thread can continue\\nto run while other tasks are executed, which makes the program feel more responsive.\\n\\nBetter resource utilization: Multithreading can improve the utilization of system resources by \\nkeeping the CPU busy while waiting for I/O operations or other tasks to complete.\\n\\nDisadvantages:\\n\\nIncreased complexity: Multithreading can add complexity to a program, making it more\\ndifficult to develop and debug.\\n\\nThread synchronization: Multithreading can introduce the problem of thread synchronization,\\nwhich is the need to ensure that multiple threads access shared resources safely.\\n\\nRace conditions: Race conditions are a type of error that can occur in multithreaded programs\\nwhen two or more threads are trying to access the same resource at the same time.\\n\\nDeadlocks: Deadlocks are a type of error that can occur in multithreaded programs when two or more \\nthreads are waiting for each other to release a resource that they both need.'"
      ]
     },
     "execution_count": 13,
     "metadata": {},
     "output_type": "execute_result"
    }
   ],
   "source": [
    "#5. State advantages and disadvantages of multithreading\n",
    "\"\"\"Advantages:\n",
    "\n",
    "Increased performance: Multithreading can improve the performance of a program by allowing\n",
    "multiple tasks to be executed at the same time. This can be especially beneficial for programs\n",
    "that are CPU-intensive or that have to interact with a slow external resource.\n",
    "\n",
    "Improved responsiveness: Multithreading can make a program more responsive to user input.\n",
    "This is because if a task is blocking the main thread, the user will not be able to interact \n",
    "with the program until the task is finished. By using multithreading, the main thread can continue\n",
    "to run while other tasks are executed, which makes the program feel more responsive.\n",
    "\n",
    "Better resource utilization: Multithreading can improve the utilization of system resources by \n",
    "keeping the CPU busy while waiting for I/O operations or other tasks to complete.\n",
    "\n",
    "Disadvantages:\n",
    "\n",
    "Increased complexity: Multithreading can add complexity to a program, making it more\n",
    "difficult to develop and debug.\n",
    "\n",
    "Thread synchronization: Multithreading can introduce the problem of thread synchronization,\n",
    "which is the need to ensure that multiple threads access shared resources safely.\n",
    "\n",
    "Race conditions: Race conditions are a type of error that can occur in multithreaded programs\n",
    "when two or more threads are trying to access the same resource at the same time.\n",
    "\n",
    "Deadlocks: Deadlocks are a type of error that can occur in multithreaded programs when two or more \n",
    "threads are waiting for each other to release a resource that they both need.\"\"\""
   ]
  },
  {
   "cell_type": "code",
   "execution_count": 14,
   "id": "a1973f6c-0a03-472b-a110-cfc3ca92e59a",
   "metadata": {},
   "outputs": [
    {
     "data": {
      "text/plain": [
       "'\\nDeadlocks\\n\\nA deadlock is a situation in which two or more threads are waiting for each other to release \\na resource that they both need. This can happen when two threads are both trying to access the \\nsame file, for example. If both threads are waiting for the other thread to release the file, then\\nneither thread will be able to proceed. This can cause the program to hang or crash.\\n\\nRace conditions\\n\\nA race condition is a situation in which the outcome of a program depends on the order in \\nwhich two or more threads access a shared resource. This can happen when two threads are both\\ntrying to update the same variable, for example. If the two threads update the variable in different \\norders, then the final value of the variable will be different depending on the order in which the\\nthreads were executed.'"
      ]
     },
     "execution_count": 14,
     "metadata": {},
     "output_type": "execute_result"
    }
   ],
   "source": [
    "#6. Explain deadlocks and race conditions.\n",
    "\"\"\"\n",
    "Deadlocks\n",
    "\n",
    "A deadlock is a situation in which two or more threads are waiting for each other to release \n",
    "a resource that they both need. This can happen when two threads are both trying to access the \n",
    "same file, for example. If both threads are waiting for the other thread to release the file, then\n",
    "neither thread will be able to proceed. This can cause the program to hang or crash.\n",
    "\n",
    "Race conditions\n",
    "\n",
    "A race condition is a situation in which the outcome of a program depends on the order in \n",
    "which two or more threads access a shared resource. This can happen when two threads are both\n",
    "trying to update the same variable, for example. If the two threads update the variable in different \n",
    "orders, then the final value of the variable will be different depending on the order in which the\n",
    "threads were executed.\"\"\"\n"
   ]
  },
  {
   "cell_type": "code",
   "execution_count": null,
   "id": "a08a61fb-fc94-4c56-830e-24d0145e6c05",
   "metadata": {},
   "outputs": [],
   "source": []
  }
 ],
 "metadata": {
  "kernelspec": {
   "display_name": "Python 3 (ipykernel)",
   "language": "python",
   "name": "python3"
  },
  "language_info": {
   "codemirror_mode": {
    "name": "ipython",
    "version": 3
   },
   "file_extension": ".py",
   "mimetype": "text/x-python",
   "name": "python",
   "nbconvert_exporter": "python",
   "pygments_lexer": "ipython3",
   "version": "3.10.8"
  }
 },
 "nbformat": 4,
 "nbformat_minor": 5
}
