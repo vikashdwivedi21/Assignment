{
 "cells": [
  {
   "cell_type": "code",
   "execution_count": 3,
   "id": "03342d55-79a3-4951-ad47-787c97519198",
   "metadata": {},
   "outputs": [],
   "source": [
    "1\n",
    "class vehicle:\n",
    "    def __init__(self,Company_Name,Car_Name,Speed,average_speed):\n",
    "        self.Companyname=Company_Name\n",
    "        self.name=Car_Name\n",
    "        self.speed=Speed\n",
    "        self.averagespeed=average_speed\n",
    "    \n",
    "    def VehicleInfo(self):\n",
    "        return self.Companyname, self.name,self.speed,self.averagespeed"
   ]
  },
  {
   "cell_type": "code",
   "execution_count": 4,
   "id": "b770e3f5-6c61-48c4-adb2-d6761c2370f1",
   "metadata": {},
   "outputs": [],
   "source": [
    "about_vehicle=vehicle(\"Lamborghini\",\"Urus\",300,150)\n"
   ]
  },
  {
   "cell_type": "code",
   "execution_count": 31,
   "id": "e2024066-f203-43ba-89ca-4f518c5ea60e",
   "metadata": {},
   "outputs": [
    {
     "data": {
      "text/plain": [
       "('Lamborghini', 'sdada', 300, 150)"
      ]
     },
     "execution_count": 31,
     "metadata": {},
     "output_type": "execute_result"
    }
   ],
   "source": [
    "about_vehicle.VehicleInfo()"
   ]
  },
  {
   "cell_type": "code",
   "execution_count": 117,
   "id": "a5b1ce9b-63d6-4895-b061-f1f246a5afd1",
   "metadata": {},
   "outputs": [],
   "source": [
    "2\n",
    "class Vehicle:\n",
    "    def seating_capacity(self,Car_name,Seating_Capacity):\n",
    "        self.CarName=Car_name\n",
    "        self.SeatingCapacity=Seating_Capacity\n",
    "    \n",
    "    def Info(self):\n",
    "        return self.CarName,self.SeatingCapacity\n",
    "        "
   ]
  },
  {
   "cell_type": "code",
   "execution_count": 118,
   "id": "f61cbc87-f700-4c24-923f-1e3838c18be8",
   "metadata": {},
   "outputs": [],
   "source": [
    "class car(Vehicle):\n",
    "    pass"
   ]
  },
  {
   "cell_type": "code",
   "execution_count": 119,
   "id": "8b38dddc-88ab-4042-bcca-4fe107f163e2",
   "metadata": {},
   "outputs": [],
   "source": [
    "a=car()"
   ]
  },
  {
   "cell_type": "code",
   "execution_count": 120,
   "id": "427e8563-3c00-46a9-8f0c-29cbf69e4372",
   "metadata": {},
   "outputs": [],
   "source": [
    "a.seating_capacity(\"MG\",4)"
   ]
  },
  {
   "cell_type": "code",
   "execution_count": 125,
   "id": "147ff43d-cbe5-491e-a23f-62bc2d0b4fca",
   "metadata": {},
   "outputs": [
    {
     "data": {
      "text/plain": [
       "('MG', 4)"
      ]
     },
     "execution_count": 125,
     "metadata": {},
     "output_type": "execute_result"
    }
   ],
   "source": [
    "a.Info()"
   ]
  },
  {
   "cell_type": "code",
   "execution_count": 131,
   "id": "b3b15118-744a-4844-8229-907ee6d71ab0",
   "metadata": {},
   "outputs": [],
   "source": [
    "3\n",
    "# Multiple inheritance refers to linking multiple class to its child classes\n",
    "class Boss:\n",
    "    def meth_boss(self):\n",
    "        return \"I am the Boss of the Company\"\n",
    "    \n",
    "\n",
    "class Manager:\n",
    "    def meth_manager(self):\n",
    "        return \"I am the Manager of this company\"\n",
    "\n",
    "class employee(Boss,Manager):\n",
    "    pass"
   ]
  },
  {
   "cell_type": "code",
   "execution_count": 132,
   "id": "7fa3b540-41e2-416b-93ae-1ffdff062afe",
   "metadata": {},
   "outputs": [],
   "source": [
    "Access=employee()"
   ]
  },
  {
   "cell_type": "code",
   "execution_count": 133,
   "id": "a69ae0e0-c2a6-485d-969c-1cac6b46a85b",
   "metadata": {},
   "outputs": [
    {
     "data": {
      "text/plain": [
       "'I am the Boss of the Company'"
      ]
     },
     "execution_count": 133,
     "metadata": {},
     "output_type": "execute_result"
    }
   ],
   "source": [
    "Access.meth_boss()"
   ]
  },
  {
   "cell_type": "code",
   "execution_count": 135,
   "id": "9afcca93-73a7-4c98-9d3e-4def572f2539",
   "metadata": {},
   "outputs": [
    {
     "data": {
      "text/plain": [
       "'I am the Manager of this company'"
      ]
     },
     "execution_count": 135,
     "metadata": {},
     "output_type": "execute_result"
    }
   ],
   "source": [
    "Access.meth_manager()"
   ]
  },
  {
   "cell_type": "code",
   "execution_count": 142,
   "id": "4e78f85d-7b7f-42e6-8c5d-f8b707aa64db",
   "metadata": {},
   "outputs": [],
   "source": [
    "4\n",
    "# Getter and Setter are nothing but just a keyword to set a value or get value without changing the actual value\n",
    "class balance:\n",
    "    def __init__(self,Value=0):\n",
    "        self.value=Value\n",
    "        \n",
    "    def set_value(self,x):\n",
    "        self.value=x\n",
    "    def get_value(self):\n",
    "        return self.value"
   ]
  },
  {
   "cell_type": "code",
   "execution_count": 143,
   "id": "fca899fd-241a-416c-82eb-a25011e2feb8",
   "metadata": {},
   "outputs": [],
   "source": [
    "access=balance()"
   ]
  },
  {
   "cell_type": "code",
   "execution_count": 144,
   "id": "65f9b950-2816-45c9-a56e-dc189ff80e9e",
   "metadata": {},
   "outputs": [],
   "source": [
    "access.set_value(200000)"
   ]
  },
  {
   "cell_type": "code",
   "execution_count": 145,
   "id": "8098a5af-b87f-43cc-9032-c2ad3df4122d",
   "metadata": {},
   "outputs": [
    {
     "data": {
      "text/plain": [
       "200000"
      ]
     },
     "execution_count": 145,
     "metadata": {},
     "output_type": "execute_result"
    }
   ],
   "source": [
    "access.get_value()"
   ]
  },
  {
   "cell_type": "code",
   "execution_count": 150,
   "id": "d39de12e-b253-4f69-af3f-63fc3b2b36fa",
   "metadata": {},
   "outputs": [],
   "source": [
    "5\n",
    "#Method overriding is a feature of object-oriented programming languages where the subclass or child class can provide the program with specific characteristics or a specific implementation process of data provided that are already defined in the parent class or superclass\n",
    "class parent1:\n",
    "    def show(self):\n",
    "        return \"Parent1 class\"\n",
    "class parent2:\n",
    "    def show1(self):\n",
    "        return\"Parent2 class\"\n",
    "class child(parent1,parent2):\n",
    "    def show(self):\n",
    "        return\"Child class\"\n",
    "    "
   ]
  },
  {
   "cell_type": "code",
   "execution_count": 151,
   "id": "17493582-20b5-485b-a79d-17432909d238",
   "metadata": {},
   "outputs": [],
   "source": [
    "obj=child()"
   ]
  },
  {
   "cell_type": "code",
   "execution_count": 157,
   "id": "61e52407-562f-459f-98eb-e9ffe4021649",
   "metadata": {},
   "outputs": [
    {
     "name": "stdout",
     "output_type": "stream",
     "text": [
      "Parent2 class\n",
      "Child class\n"
     ]
    }
   ],
   "source": [
    "print(obj.show1())\n",
    "print(obj.show())"
   ]
  },
  {
   "cell_type": "code",
   "execution_count": null,
   "id": "2dd031f4-dc8d-4394-be8a-83b74a8c48f5",
   "metadata": {},
   "outputs": [],
   "source": []
  }
 ],
 "metadata": {
  "kernelspec": {
   "display_name": "Python 3 (ipykernel)",
   "language": "python",
   "name": "python3"
  },
  "language_info": {
   "codemirror_mode": {
    "name": "ipython",
    "version": 3
   },
   "file_extension": ".py",
   "mimetype": "text/x-python",
   "name": "python",
   "nbconvert_exporter": "python",
   "pygments_lexer": "ipython3",
   "version": "3.10.8"
  }
 },
 "nbformat": 4,
 "nbformat_minor": 5
}
