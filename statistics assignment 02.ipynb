{
 "cells": [
  {
   "cell_type": "code",
   "execution_count": 1,
   "id": "de2aa889-4239-46cc-a607-5f1c8aefd14b",
   "metadata": {},
   "outputs": [],
   "source": [
    "#Q1. What are the three measures of central tendency?\n",
    "\n",
    "##1) Mean: Mean is the average of the dataset\n",
    "\n",
    "##2) Median: The median is the middle value in a data set when the values are arranged in order from smallest to largest. If there is an even number of values in the data set, the median is the average of the two middle values.\n",
    "\n",
    "##3) mode: The mode is the value that occurs most frequently in a data set. If there is no mode, it means that all values in the data set occur with equal frequency."
   ]
  },
  {
   "cell_type": "code",
   "execution_count": 2,
   "id": "be8d4475-6032-4871-9253-b557ea97bb1c",
   "metadata": {},
   "outputs": [],
   "source": [
    "#Q2. What is the difference between the mean, median, and mode? How are they used to measure the central tendency of a dataset?\n",
    "\n",
    "##1) Mean: Mean is the average of the dataset\n",
    "\n",
    "##2) Median: The median is the middle value in a data set when the values are arranged in order from smallest to largest. If there is an even number of values in the data set, the median is the average of the two middle values.\n",
    "\n",
    "##3) mode: The mode is the value that occurs most frequently in a data set. If there is no mode, it means that all values in the data set occur with equal frequency.\n"
   ]
  },
  {
   "cell_type": "code",
   "execution_count": 3,
   "id": "edfd3c6b-3555-4283-abcc-7d26db70ccac",
   "metadata": {},
   "outputs": [
    {
     "data": {
      "text/plain": [
       "177.01875"
      ]
     },
     "execution_count": 3,
     "metadata": {},
     "output_type": "execute_result"
    }
   ],
   "source": [
    "#Q3. Measure the three measures of central tendency for the given height data\n",
    "#[178,177,176,177,178.2,178,175,179,180,175,178.9,176.2,177,172.5,178,176.5]\n",
    "\n",
    "import numpy as np\n",
    "\n",
    "data_set = [178,177,176,177,178.2,178,175,179,180,175,178.9,176.2,177,172.5,178,176.5]\n",
    "\n",
    "np.mean(data_set)"
   ]
  },
  {
   "cell_type": "code",
   "execution_count": 4,
   "id": "68fb6292-218e-43e4-89f1-6893397f00b0",
   "metadata": {},
   "outputs": [
    {
     "data": {
      "text/plain": [
       "177.0"
      ]
     },
     "execution_count": 4,
     "metadata": {},
     "output_type": "execute_result"
    }
   ],
   "source": [
    "np.median(data_set)"
   ]
  },
  {
   "cell_type": "code",
   "execution_count": 6,
   "id": "437f1eac-e546-45ae-8d7d-64166c14e07a",
   "metadata": {},
   "outputs": [
    {
     "data": {
      "text/plain": [
       "178"
      ]
     },
     "execution_count": 6,
     "metadata": {},
     "output_type": "execute_result"
    }
   ],
   "source": [
    "import statistics\n",
    "statistics.mode(data_set)"
   ]
  },
  {
   "cell_type": "code",
   "execution_count": 7,
   "id": "a62ffd66-3a04-487a-ae11-792e1277b30a",
   "metadata": {},
   "outputs": [
    {
     "data": {
      "text/plain": [
       "1.7885814036548633"
      ]
     },
     "execution_count": 7,
     "metadata": {},
     "output_type": "execute_result"
    }
   ],
   "source": [
    "#Q4. Find the standard deviation for the given data:\n",
    "#[178,177,176,177,178.2,178,175,179,180,175,178.9,176.2,177,172.5,178,176.5]\n",
    "\n",
    "np.std(data_set)"
   ]
  },
  {
   "cell_type": "code",
   "execution_count": 8,
   "id": "15e915ad-a858-411a-a61b-d4b3e2fca309",
   "metadata": {},
   "outputs": [
    {
     "data": {
      "text/plain": [
       "'Measures of dispersion are used to describe the spread of a dataset. They are used to complement measures of central tendency, such as the mean and median, which describe the center of a dataset.\\nThe range is the simplest measure of dispersion. It is the difference between the largest and smallest values in a dataset.\\nThe variance is a more complex measure of dispersion. It is calculated by taking the average of the squared differences between each value in the dataset and the mean.\\nThe standard deviation is the square root of the variance. It is a more interpretable measure of dispersion than the variance.\\nHere is an example of how measures of dispersion can be used to describe the spread of a dataset.\\nThe following dataset contains the heights of 10 people:\\n\\n[160, 165, 170, 175, 180, 185, 190, 195, 200, 205]\\n\\u200b\\n\\nThe mean height of this dataset is 180. The range is 45 (205 - 160). The variance is 125 (125 / 10 = 12.5). The standard deviation is 11.18 (12.5 ^ 0.5 = 11.18).\\nThe range tells us that the heights in this dataset range from 160 to 205. The variance tells us that the average squared difference between each height and the mean is 125. The standard deviation tells us that the average distance between each height and the mean is 11.18.\\nThese measures of dispersion can be used to describe the spread of a dataset. They can be used to compare the spread of different datasets. They can also be used to identify outliers, which are values that are significantly different from the rest of the data.'"
      ]
     },
     "execution_count": 8,
     "metadata": {},
     "output_type": "execute_result"
    }
   ],
   "source": [
    "#Q5. How are measures of dispersion such as range, variance, and standard deviation used to describe\n",
    "#the spread of a dataset? Provide an example.\n",
    "\n",
    "\"\"\"Measures of dispersion are used to describe the spread of a dataset. They are used to complement measures of central tendency, such as the mean and median, which describe the center of a dataset.\n",
    "The range is the simplest measure of dispersion. It is the difference between the largest and smallest values in a dataset.\n",
    "The variance is a more complex measure of dispersion. It is calculated by taking the average of the squared differences between each value in the dataset and the mean.\n",
    "The standard deviation is the square root of the variance. It is a more interpretable measure of dispersion than the variance.\n",
    "Here is an example of how measures of dispersion can be used to describe the spread of a dataset.\n",
    "The following dataset contains the heights of 10 people:\n",
    "\n",
    "[160, 165, 170, 175, 180, 185, 190, 195, 200, 205]\n",
    "​\n",
    "\n",
    "The mean height of this dataset is 180. The range is 45 (205 - 160). The variance is 125 (125 / 10 = 12.5). The standard deviation is 11.18 (12.5 ^ 0.5 = 11.18).\n",
    "The range tells us that the heights in this dataset range from 160 to 205. The variance tells us that the average squared difference between each height and the mean is 125. The standard deviation tells us that the average distance between each height and the mean is 11.18.\n",
    "These measures of dispersion can be used to describe the spread of a dataset. They can be used to compare the spread of different datasets. They can also be used to identify outliers, which are values that are significantly different from the rest of the data.\"\"\""
   ]
  },
  {
   "cell_type": "code",
   "execution_count": 10,
   "id": "afd8b98c-c9f3-422c-b74b-a8575a41e543",
   "metadata": {},
   "outputs": [
    {
     "name": "stdout",
     "output_type": "stream",
     "text": [
      "--2023-07-14 17:31:08--  https://es.venngage.com/templates/diagrams/triple-venn-diagram-f77d0490-551a-4b6a-acc3-480add231d41\n",
      "Resolving es.venngage.com (es.venngage.com)... 18.205.81.244, 18.205.100.4\n",
      "Connecting to es.venngage.com (es.venngage.com)|18.205.81.244|:443... connected.\n",
      "HTTP request sent, awaiting response... 200 OK\n",
      "Length: unspecified [text/html]\n",
      "Saving to: ‘triple-venn-diagram-f77d0490-551a-4b6a-acc3-480add231d41’\n",
      "\n",
      "triple-venn-diagram     [  <=>               ] 118.13K   319KB/s    in 0.4s    \n",
      "\n",
      "2023-07-14 17:31:09 (319 KB/s) - ‘triple-venn-diagram-f77d0490-551a-4b6a-acc3-480add231d41’ saved [120967]\n",
      "\n"
     ]
    }
   ],
   "source": [
    "#Q6. What is a Venn diagram?\n",
    "\n",
    "\"\"\"\n",
    "A Venn diagram is a diagram that shows the relationships between different sets.A Venn diagram consists \n",
    "of two or more circles, each of which represents a set. The intersections of the circles represent the relationships between the sets.\"\"\n",
    "\"\"\"\n",
    "\n",
    "\n",
    "!wget https://es.venngage.com/templates/diagrams/triple-venn-diagram-f77d0490-551a-4b6a-acc3-480add231d41\n"
   ]
  },
  {
   "cell_type": "code",
   "execution_count": 11,
   "id": "9386bf1d-a114-4f8a-bfe5-2e611ef4ffb7",
   "metadata": {},
   "outputs": [],
   "source": [
    "#Q7. For the two given sets A = (2,3,4,5,6,7) & B = (0,2,6,8,10). Find:\n",
    "##(i) A∩B : {2,6}\n",
    "##(ii) A ⋃ B: {0,2,3,4,5,6,7,8,10}"
   ]
  },
  {
   "cell_type": "code",
   "execution_count": 12,
   "id": "bda06f38-80c9-4f38-952b-77d2dd035e6c",
   "metadata": {},
   "outputs": [
    {
     "data": {
      "text/plain": [
       "'Skewness is a statistical measure that describes the asymmetry or lack of symmetry in a probability distribution or dataset.\\nIt indicates the extent to which a distribution is stretched or skewed to one side.\\n\\nIf the skewness value is zero, it indicates a perfectly symmetrical distribution, where the mean, median, and mode are all equal.\\nA positive skewness value indicates that the distribution has a longer right tail, meaning it is skewed to the right. In this case,\\nthe mean is typically greater than the median. Conversely, a negative skewness value indicates a longer left tail, indicating a \\nleft-skewed distribution where the mean is typically smaller than the median.\\n\\nSkewness is useful in understanding the shape and characteristics of a dataset. It helps identify if the data is normally\\ndistributed or if there are outliers present. Additionally, skewness is important in various statistical analyses and modeling \\ntechniques as it can impact the validity of assumptions made by these methods.'"
      ]
     },
     "execution_count": 12,
     "metadata": {},
     "output_type": "execute_result"
    }
   ],
   "source": [
    "#Q8. What do you understand about skewness in data?\n",
    "\n",
    "\"\"\"Skewness is a statistical measure that describes the asymmetry or lack of symmetry in a probability distribution or dataset.\n",
    "It indicates the extent to which a distribution is stretched or skewed to one side.\n",
    "\n",
    "If the skewness value is zero, it indicates a perfectly symmetrical distribution, where the mean, median, and mode are all equal.\n",
    "A positive skewness value indicates that the distribution has a longer right tail, meaning it is skewed to the right. In this case,\n",
    "the mean is typically greater than the median. Conversely, a negative skewness value indicates a longer left tail, indicating a \n",
    "left-skewed distribution where the mean is typically smaller than the median.\n",
    "\n",
    "Skewness is useful in understanding the shape and characteristics of a dataset. It helps identify if the data is normally\n",
    "distributed or if there are outliers present. Additionally, skewness is important in various statistical analyses and modeling \n",
    "techniques as it can impact the validity of assumptions made by these methods.\"\"\"\n",
    "\n"
   ]
  },
  {
   "cell_type": "code",
   "execution_count": 13,
   "id": "7d81de01-0a87-4114-8d38-8c523580018a",
   "metadata": {},
   "outputs": [
    {
     "data": {
      "text/plain": [
       "' if the data is right skewed then : mean<=median<=mode '"
      ]
     },
     "execution_count": 13,
     "metadata": {},
     "output_type": "execute_result"
    }
   ],
   "source": [
    "#Q9. If a data is right skewed then what will be the position of median with respect to mean?\n",
    "\n",
    "\"\"\" if the data is right skewed then : mean<=median<=mode \"\"\""
   ]
  },
  {
   "cell_type": "code",
   "execution_count": 14,
   "id": "164defeb-0e31-46b2-8305-ec4f8ed0a09f",
   "metadata": {},
   "outputs": [
    {
     "data": {
      "text/plain": [
       "'Covariance and correlation are both measures of the relationship between two variables. Covariance measures the\\nextent to which two variables vary together, while correlation measures the strength of the linear relationship between two variables.\\n\\nCovariance is calculated by taking the average of the product of the deviations of each variable from its mean.\\n\"\"\\nCorrelation is calculated by dividing the covariance by the product of the standard deviations of the two variables'"
      ]
     },
     "execution_count": 14,
     "metadata": {},
     "output_type": "execute_result"
    }
   ],
   "source": [
    "#Q10. Explain the difference between covariance and correlation. How are these measures used in statistical analysis?\n",
    "\n",
    "\"\"\"Covariance and correlation are both measures of the relationship between two variables. Covariance measures the\n",
    "extent to which two variables vary together, while correlation measures the strength of the linear relationship between two variables.\n",
    "\n",
    "Covariance is calculated by taking the average of the product of the deviations of each variable from its mean.\n",
    "\"\"\n",
    "Correlation is calculated by dividing the covariance by the product of the standard deviations of the two variables\"\"\"\n"
   ]
  },
  {
   "cell_type": "code",
   "execution_count": 15,
   "id": "458d5dc6-2965-4f62-b6cc-da94aecff6c1",
   "metadata": {},
   "outputs": [
    {
     "data": {
      "text/plain": [
       "'The formula for calculating the sample mean is:\\n\\nSample Mean = (Sum of all values in the dataset) / (Number of values in the dataset)\\n\\nExample calculation: Consider a dataset of 5 values: 2, 4, 6, 8, 10\\n\\nSum of all values = 2 + 4 + 6 + 8 + 10 = 30 Number of values = 5\\n\\nSample Mean = 30 / 5 = 6\\n\\nTherefore, the sample mean for this dataset is 6.'"
      ]
     },
     "execution_count": 15,
     "metadata": {},
     "output_type": "execute_result"
    }
   ],
   "source": [
    "#Q11. What is the formula for calculating the sample mean? Provide an example calculation for a dataset.\n",
    "\n",
    "\"\"\"The formula for calculating the sample mean is:\n",
    "\n",
    "Sample Mean = (Sum of all values in the dataset) / (Number of values in the dataset)\n",
    "\n",
    "Example calculation: Consider a dataset of 5 values: 2, 4, 6, 8, 10\n",
    "\n",
    "Sum of all values = 2 + 4 + 6 + 8 + 10 = 30 Number of values = 5\n",
    "\n",
    "Sample Mean = 30 / 5 = 6\n",
    "\n",
    "Therefore, the sample mean for this dataset is 6.\"\"\""
   ]
  },
  {
   "cell_type": "code",
   "execution_count": 16,
   "id": "85b0398a-3bf4-44ad-8b88-678c1f328d61",
   "metadata": {},
   "outputs": [
    {
     "data": {
      "text/plain": [
       "'For a normal distribution of data, the three measures of central tendency (mean, median, and mode) are all equal.\\nThis means that the mean, median, and mode will have the same value and will be located at the center of the distribution.'"
      ]
     },
     "execution_count": 16,
     "metadata": {},
     "output_type": "execute_result"
    }
   ],
   "source": [
    "#Q12.For a normal distribution of a data what is the relationship between its measure of central tendancy\n",
    "\n",
    "\"\"\"For a normal distribution of data, the three measures of central tendency (mean, median, and mode) are all equal.\n",
    "This means that the mean, median, and mode will have the same value and will be located at the center of the distribution.\"\"\""
   ]
  },
  {
   "cell_type": "code",
   "execution_count": 17,
   "id": "e0d6c355-2db6-4953-909a-365cbb067c54",
   "metadata": {},
   "outputs": [
    {
     "data": {
      "text/plain": [
       "'  Covariance measures how two variables change together, while correlation measures the strength\\nand direction of the linear relationship between two variables.Covariance is not standardized and its value\\ndepends on the units of the variables being measured. On the other hand, correlation is standardized and always ranges\\nbetween -1 and 1, where -1 indicates a perfect negative linear relationship, 0 indicates no linear relationship, \\nand 1 indicates a perfect positive linear relationship.'"
      ]
     },
     "execution_count": 17,
     "metadata": {},
     "output_type": "execute_result"
    }
   ],
   "source": [
    "#Q13. How is covariance is different from corelation\n",
    "\n",
    "\"\"\"  Covariance measures how two variables change together, while correlation measures the strength\n",
    "and direction of the linear relationship between two variables.Covariance is not standardized and its value\n",
    "depends on the units of the variables being measured. On the other hand, correlation is standardized and always ranges\n",
    "between -1 and 1, where -1 indicates a perfect negative linear relationship, 0 indicates no linear relationship, \n",
    "and 1 indicates a perfect positive linear relationship.\"\"\"\n",
    "\n"
   ]
  },
  {
   "cell_type": "code",
   "execution_count": 18,
   "id": "01819ff0-2aa8-4efb-a668-bcad193ce9a8",
   "metadata": {},
   "outputs": [
    {
     "data": {
      "text/plain": [
       "'Outliers are data points that are significantly different from the rest of the data. They can have a significant impact on the measures of central tendency and dispersion.\\nThe mean is the average of all the data points. Outliers can skew the mean, making it appear to be different from what it would be if the outliers were not included.\\nThe median is the middle value of the data, when the data is sorted from smallest to largest. Outliers can affect the median, but not as much as they affect the mean.\\nThe mode is the most frequently occurring value in the data. Outliers do not affect the mode.\\nThe range is the difference between the largest and smallest values in the data. Outliers can increase the range, making it appear to be larger than it would be if the outliers were not included.\\nThe interquartile range is the difference between the 25th and 75th percentiles of the data. Outliers can affect the interquartile range, but not as much as they affect the range.\\nHere is an example of how outliers can affect the measures of central tendency and dispersion:\\n\\nData: 1, 2, 3, 4, 5, 6, 7, 8, 9, 10, 100\\nMean: 5.5\\nMedian: 5\\nMode: 5\\nRange: 99\\nInterquartile range: 4\\nIf we remove the outlier (100), the mean becomes 4.5, the median becomes 4, the mode remains 5, the range becomes 8, and the interquartile range becomes 3.\\n\\u200b\\n\\nAs you can see, the outliers can have a significant impact on the measures of central tendency and dispersion. It is important to be aware of the potential impact of outliers when interpreting statistical data.'"
      ]
     },
     "execution_count": 18,
     "metadata": {},
     "output_type": "execute_result"
    }
   ],
   "source": [
    "#Q14. How do outliers affect measure  central tendency and dispersion with example.\n",
    "\n",
    "\"\"\"Outliers are data points that are significantly different from the rest of the data. They can have a significant impact on the measures of central tendency and dispersion.\n",
    "The mean is the average of all the data points. Outliers can skew the mean, making it appear to be different from what it would be if the outliers were not included.\n",
    "The median is the middle value of the data, when the data is sorted from smallest to largest. Outliers can affect the median, but not as much as they affect the mean.\n",
    "The mode is the most frequently occurring value in the data. Outliers do not affect the mode.\n",
    "The range is the difference between the largest and smallest values in the data. Outliers can increase the range, making it appear to be larger than it would be if the outliers were not included.\n",
    "The interquartile range is the difference between the 25th and 75th percentiles of the data. Outliers can affect the interquartile range, but not as much as they affect the range.\n",
    "Here is an example of how outliers can affect the measures of central tendency and dispersion:\n",
    "\n",
    "Data: 1, 2, 3, 4, 5, 6, 7, 8, 9, 10, 100\n",
    "Mean: 5.5\n",
    "Median: 5\n",
    "Mode: 5\n",
    "Range: 99\n",
    "Interquartile range: 4\n",
    "If we remove the outlier (100), the mean becomes 4.5, the median becomes 4, the mode remains 5, the range becomes 8, and the interquartile range becomes 3.\n",
    "​\n",
    "\n",
    "As you can see, the outliers can have a significant impact on the measures of central tendency and dispersion. It is important to be aware of the potential impact of outliers when interpreting statistical data.\"\"\"\n"
   ]
  },
  {
   "cell_type": "code",
   "execution_count": null,
   "id": "508089ac-dc77-4cb2-a640-b650757ceaaa",
   "metadata": {},
   "outputs": [],
   "source": []
  }
 ],
 "metadata": {
  "kernelspec": {
   "display_name": "Python 3 (ipykernel)",
   "language": "python",
   "name": "python3"
  },
  "language_info": {
   "codemirror_mode": {
    "name": "ipython",
    "version": 3
   },
   "file_extension": ".py",
   "mimetype": "text/x-python",
   "name": "python",
   "nbconvert_exporter": "python",
   "pygments_lexer": "ipython3",
   "version": "3.10.8"
  }
 },
 "nbformat": 4,
 "nbformat_minor": 5
}
