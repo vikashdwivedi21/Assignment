{
 "cells": [
  {
   "cell_type": "markdown",
   "id": "eb0f97e8-e2a8-4a9e-9ae1-38b6b7839d35",
   "metadata": {},
   "source": [
    "Q1: What is the difference between a t-test and a z-test? Provide an example scenario where you would\n",
    "use each type of test."
   ]
  },
  {
   "cell_type": "markdown",
   "id": "32905b4e-e8fd-4689-84ea-8d4608e5b9a6",
   "metadata": {},
   "source": [
    "A **z-test** is used when the population mean and the standard deviation is known, it assumes that the population is normally distributed. On the other hand, a **t-test** is used when the population standard deviation is unknown and must be estimated from the sample data. The t-test assumes that the sample is normally distributed.\n",
    "\n",
    "For example, if you want to test whether a new drug has an effect on blood pressure, you could measure the blood pressure of a group of people before and after administering the drug. You could then use a t-test to determine whether there is a significant difference between the two sets of measurements. On the other hand, if you wanted to test whether a coin was fair or not, you could use a z-test to determine whether the observed proportion of heads was significantly different from 0.5.\n",
    "\n"
   ]
  },
  {
   "cell_type": "markdown",
   "id": "7171d58b-9a12-4719-9f24-5e8f1bba147e",
   "metadata": {},
   "source": [
    "Q2: Differentiate between one-tailed and two-tailed tests."
   ]
  },
  {
   "cell_type": "markdown",
   "id": "1d21d3fa-746c-46fd-b19c-5adc28b39e07",
   "metadata": {},
   "source": [
    "A one-tailed test is used when the research hypothesis entails the direction of the difference, while two-tailed tests are used when the research hypothesis does not specify the direction of the difference. One-tailed tests show evidence of the difference in a single direction, while two-tailed tests show evidence of the difference in any direction. Two-tailed tests are more conservative than one-tailed tests because they require a more extreme test statistic to reject the null hypothesis.\n",
    "\n",
    "For example, if you want to test whether a new drug has an effect on blood pressure and you hypothesize that it will lower blood pressure, you would use a one-tailed test. If you hypothesize that the drug will have an effect on blood pressure but you don’t know whether it will raise or lower blood pressure, you would use a two-tailed test"
   ]
  },
  {
   "cell_type": "markdown",
   "id": "28c44c00-98d7-4b4b-b1bc-b3e83a9526a4",
   "metadata": {},
   "source": [
    "Q3: Explain the concept of Type 1 and Type 2 errors in hypothesis testing. Provide an example scenario for\n",
    "each type of error."
   ]
  },
  {
   "cell_type": "markdown",
   "id": "32137d28-4352-4f8e-a639-b79c88b89d1b",
   "metadata": {},
   "source": [
    "In hypothesis testing, a Type I error occurs when a null hypothesis is rejected when it is actually true. A Type II error occurs when a null hypothesis is not rejected when it is actually false.\n",
    "\n",
    "For example, suppose you are testing whether a new drug has an effect on blood pressure. A Type I error would occur if you concluded that the drug had an effect on blood pressure when it actually did not. A Type II error would occur if you concluded that the drug did not have an effect on blood pressure when it actually did"
   ]
  },
  {
   "cell_type": "markdown",
   "id": "05e85a5b-d759-4b18-a24f-5f1152741a86",
   "metadata": {},
   "source": [
    "Q4: Explain Bayes's theorem with an example."
   ]
  },
  {
   "cell_type": "markdown",
   "id": "8de1e068-c70c-411f-be14-588e77ba6e1c",
   "metadata": {},
   "source": [
    "Bayes’s theorem is a mathematical formula that describes the probability of an event based on prior knowledge of conditions that might be related to the event. It is named after Reverend Thomas Bayes who first formulated it.\n",
    "\n",
    "The formula for Bayes’s theorem is:\n",
    "\n",
    "P(A|B) = P(B|A) * P(A) / P(B)\n",
    "\n",
    "where A and B are events and P(B) ≠ 01.\n",
    "\n",
    "For example, suppose you are a doctor trying to diagnose a patient with a rare disease. You know that the disease affects 1 in 10,000 people in the general population. You also know that there is a test for the disease that is 99% accurate - meaning that if someone has the disease, there is a 99% chance that the test will be positive, and if someone does not have the disease, there is a 99% chance that the test will be negative. If you administer the test to your patient and it comes back positive, what is the probability that your patient actually has the disease? Using Bayes’s theorem, you can calculate this probability"
   ]
  },
  {
   "cell_type": "markdown",
   "id": "b9038477-d80f-4910-9952-0ea55249935c",
   "metadata": {},
   "source": [
    "Q5: What is a confidence interval? How to calculate the confidence interval, explain with an example."
   ]
  },
  {
   "cell_type": "markdown",
   "id": "93cc4065-c06d-4b6b-95f9-d1ea8102d318",
   "metadata": {},
   "source": [
    "A confidence interval is a range of values that is used to estimate an unknown population parameter with a certain level of confidence. It provides a measure of the uncertainty or precision associated with the estimate.\n",
    "\n",
    "To calculate a confidence interval, the following steps are typically followed:\n",
    "\n",
    "Determine the desired level of confidence: This is usually expressed as a percentage, such as 95% or 99%. The level of confidence represents the probability that the true population parameter falls within the calculated interval.\n",
    "\n",
    "Collect a sample from the population of interest: The sample should be representative and randomly selected to ensure unbiased results.\n",
    "\n",
    "Calculate the sample mean and standard deviation: The sample mean is the average of the values in the sample, while the standard deviation measures the variability or spread of the data.\n",
    "\n",
    "Determine the appropriate critical value: This value is based on the desired level of confidence and the sample size. It is obtained from a statistical table or using a calculator.\n",
    "\n",
    "Calculate the margin of error: The margin of error is the amount added and subtracted from the sample mean to create the interval. It is calculated by multiplying the critical value by the standard deviation divided by the square root of the sample size.\n",
    "\n",
    "Calculate the confidence interval: The confidence interval is constructed by adding and subtracting the margin of error from the sample mean.\n",
    "\n",
    "Here's an example to illustrate the calculation of a confidence interval:\n",
    "\n",
    "Suppose you want to estimate the average height of adult males in a particular city. You collect a random sample of 100 adult males and measure their heights. The sample mean height is 175 cm, and the sample standard deviation is 5 cm.\n",
    "\n",
    "You decide to calculate a 95% confidence interval for the population mean height.\n",
    "\n",
    "First, you determine the critical value for a 95% confidence level. For a sample size of 100, the critical value is approximately 1.96 (obtained from a standard normal distribution table).\n",
    "\n",
    "Next, you calculate the margin of error using the formula:\n",
    "\n",
    "Margin of Error = Critical Value * (Standard Deviation / √Sample Size)\n",
    "\n",
    "In this case, the margin of error is 1.96 * (5 / √100) = 0.98 cm.\n",
    "\n",
    "Finally, you construct the confidence interval by adding and subtracting the margin of error from the sample mean:\n",
    "\n",
    "Confidence Interval = Sample Mean ± Margin of Error\n",
    "\n",
    "Confidence Interval = 175 ± 0.98\n",
    "\n",
    "Therefore, the 95% confidence interval for the average height of adult males in the city is (174.02 cm, 175.98 cm). This means that we can be 95% confident that the true population mean height falls within this range."
   ]
  },
  {
   "cell_type": "markdown",
   "id": "0e9d0bb7-bdab-46f6-add8-59e5120c2661",
   "metadata": {},
   "source": [
    "Q6. Use Bayes' Theorem to calculate the probability of an event occurring given prior knowledge of the\n",
    "event's probability and new evidence. Provide a sample problem and solution."
   ]
  },
  {
   "cell_type": "markdown",
   "id": "3c98c480-7197-43cb-9923-2d2be01c1c59",
   "metadata": {},
   "source": [
    "Bayes' Theorem is a mathematical formula used to update the probability of an event occurring based on new evidence or information. It calculates the conditional probability of an event A given event B, using the prior probability of event A and the probability of event B given event A.\n",
    "\n",
    "The formula for Bayes' Theorem is:\n",
    "\n",
    "P(A|B) = (P(B|A) * P(A)) / P(B)\n",
    "\n",
    "Where:\n",
    "P(A|B) is the probability of event A given event B (the posterior probability).\n",
    "P(B|A) is the probability of event B given event A (the likelihood).\n",
    "P(A) is the prior probability of event A.\n",
    "P(B) is the prior probability of event B.\n",
    "\n",
    "Here's an example to illustrate the application of Bayes' Theorem:\n",
    "\n",
    "Problem: A medical test is used to detect a certain disease. The test has a 98% accuracy rate, meaning that if a person has the disease, the test correctly identifies it with a probability of 0.98. However, the test also produces false positives in 3% of cases, meaning that if a person does not have the disease, the test incorrectly indicates they do with a probability of 0.03. The disease affects 1% of the population. If a person tests positive for the disease, what is the probability that they actually have it?\n",
    "\n",
    "Solution:\n",
    "Let's define the events:\n",
    "A: Having the disease\n",
    "B: Testing positive for the disease\n",
    "\n",
    "We are looking for P(A|B), the probability of having the disease given a positive test result.\n",
    "\n",
    "Given information:\n",
    "P(A) = 0.01 (prior probability of having the disease)\n",
    "P(B|A) = 0.98 (probability of testing positive given having the disease)\n",
    "P(B|¬A) = 0.03 (probability of testing positive given not having the disease)\n",
    "\n",
    "First, we need to calculate the prior probability of testing positive, P(B):\n",
    "P(B) = P(B|A) * P(A) + P(B|¬A) * P(¬A)\n",
    "     = 0.98 * 0.01 + 0.03 * 0.99\n",
    "     = 0.01 + 0.0297\n",
    "     = 0.0397\n",
    "\n",
    "Now, we can apply Bayes' Theorem to calculate the posterior probability:\n",
    "P(A|B) = (P(B|A) * P(A)) / P(B)\n",
    "       = (0.98 * 0.01) / 0.0397\n",
    "       = 0.0098 / 0.0397\n",
    "       ≈ 0.247\n",
    "\n",
    "Therefore, the probability of a person actually having the disease given a positive test result is approximately 0.247 or 24.7%.\n",
    "\n",
    "This example demonstrates how Bayes' Theorem can be used to update the probability of an event based on new evidence, in this case, the accuracy of a medical test."
   ]
  },
  {
   "cell_type": "markdown",
   "id": "25c060b1-71f2-43e1-bf27-91d05e7e4047",
   "metadata": {},
   "source": [
    "Q7. Calculate the 95% confidence interval for a sample of data with a mean of 50 and a standard deviation\n",
    "of 5. Interpret the results."
   ]
  },
  {
   "cell_type": "code",
   "execution_count": 16,
   "id": "b503d613-40d7-4d0a-974e-16eecd330f67",
   "metadata": {},
   "outputs": [],
   "source": [
    "import scipy.stats as st\n",
    "import numpy as np\n",
    "from scipy.stats import norm\n",
    "\n",
    "mean = 50\n",
    "std = 5\n",
    "CI = 0.95\n",
    "alpha = 1-CI\n",
    "z = norm.ppf(1-alpha/2)\n",
    "uppep_bound = mean+((z*std)/np.sqrt(sample_size))\n",
    "lower_bound = mean-((z*std)/np.sqrt(sample_size))"
   ]
  },
  {
   "cell_type": "markdown",
   "id": "115eabeb-6c5a-4783-a6db-9f473a424c4a",
   "metadata": {},
   "source": [
    "In above problem sample size is not given so that we cant calculate range of 95% of confidence interval"
   ]
  },
  {
   "cell_type": "markdown",
   "id": "04a81f57-3638-4457-a3af-28fb8b518655",
   "metadata": {},
   "source": [
    "Q8. What is the margin of error in a confidence interval? How does sample size affect the margin of error?\n",
    "Provide an example of a scenario where a larger sample size would result in a smaller margin of error."
   ]
  },
  {
   "cell_type": "markdown",
   "id": "2d950097-7615-40a0-ae88-9dce346f466f",
   "metadata": {},
   "source": [
    "The margin of error is the amount of error that you can tolerate in a poll or survey. It is half the width of the confidence interval. The larger the sample size, the smaller the margin of error. Conversely, the smaller the sample size, the larger the margin of error.\n",
    "\n",
    "For example, suppose we collect a simple random sample of data with the following information:\n",
    "\n",
    "p: 0.6\n",
    "n: 25\n",
    "Here’s how to calculate a 95% confidence interval for the population proportion: Confidence Interval = p ± z√p (1-p) / n Confidence Interval = .6 ± 1.96√.6 (1-.6) / 25 Confidence Interval = .6 ± 0.192 Confidence Interval = [.408, .792]\n",
    "\n",
    "Now consider if we instead used a sample size of 200. Here’s how we would calculate the 95% confidence interval for the population proportion: Confidence Interval = p ± z√p (1-p) / n Confidence Interval = .6 ± 1.96√.6 (1-.6) / 200 Confidence Interval = .6 ± 0.068 Confidence Interval = [.532, .668]\n",
    "\n",
    "Notice that just by increasing the sample size we were able to reduce the margin of error and produce a much more narrow confidence interval."
   ]
  },
  {
   "cell_type": "markdown",
   "id": "21aa7e54-f31e-4443-910c-fc7809a3c4f9",
   "metadata": {},
   "source": [
    "Q9. Calculate the z-score for a data point with a value of 75, a population mean of 70, and a population\n",
    "standard deviation of 5. Interpret the results."
   ]
  },
  {
   "cell_type": "code",
   "execution_count": 17,
   "id": "e569f623-2703-4c82-a55e-733f7a748cd8",
   "metadata": {},
   "outputs": [
    {
     "data": {
      "text/plain": [
       "1.0"
      ]
     },
     "execution_count": 17,
     "metadata": {},
     "output_type": "execute_result"
    }
   ],
   "source": [
    "population_mean = 70\n",
    "std = 5\n",
    "sample_size = 75\n",
    "\n",
    "z_score = (sample_size-population_mean)/std\n",
    "z_score"
   ]
  },
  {
   "cell_type": "markdown",
   "id": "cb2fd97b-58aa-4d50-82ad-aec64d61f859",
   "metadata": {},
   "source": [
    "Q10. In a study of the effectiveness of a new weight loss drug, a sample of 50 participants lost an average\n",
    "of 6 pounds with a standard deviation of 2.5 pounds. Conduct a hypothesis test to determine if the drug is\n",
    "significantly effective at a 95% confidence level using a t-test."
   ]
  },
  {
   "cell_type": "code",
   "execution_count": 18,
   "id": "fc68ca6a-cd9e-4378-8ec5-d4ae29623600",
   "metadata": {},
   "outputs": [
    {
     "name": "stdout",
     "output_type": "stream",
     "text": [
      "Reject null hypothesis\n"
     ]
    }
   ],
   "source": [
    "##Null hypothesis: The drug is not significantly effective.\n",
    "##Alternative hypothesis: The drug is significantly effective.\n",
    "import math\n",
    "import scipy.stats as stats\n",
    "\n",
    "x_bar = 6\n",
    "mu = 0\n",
    "s = 2.5\n",
    "n = 50\n",
    "alpha = 0.05\n",
    "\n",
    "t = (x_bar - mu) / (s / math.sqrt(n))\n",
    "df = n - 1\n",
    "t_critical = abs(stats.t.ppf(alpha/2, df))\n",
    "\n",
    "if abs(t) > t_critical:\n",
    "    print(\"Reject null hypothesis\")\n",
    "else:\n",
    "    print(\"Fail to reject null hypothesis\")\n"
   ]
  },
  {
   "cell_type": "markdown",
   "id": "24080008-5189-45fa-adc9-a164608e0852",
   "metadata": {},
   "source": [
    "Q11. In a survey of 500 people, 65% reported being satisfied with their current job. Calculate the 95%\n",
    "confidence interval for the true proportion of people who are satisfied with their job."
   ]
  },
  {
   "cell_type": "code",
   "execution_count": 19,
   "id": "4418aade-0e1b-4fdc-af3a-de9299c785d9",
   "metadata": {},
   "outputs": [
    {
     "name": "stdout",
     "output_type": "stream",
     "text": [
      "Confidence interval: (0.6081925393809212, 0.6918074606190788)\n"
     ]
    }
   ],
   "source": [
    "import math\n",
    "\n",
    "p = 0.65\n",
    "n = 500\n",
    "alpha = 0.05\n",
    "\n",
    "z_critical = stats.norm.ppf(1 - alpha/2)\n",
    "margin_of_error = z_critical * math.sqrt((p * (1 - p)) / n)\n",
    "confidence_interval = (p - margin_of_error, p + margin_of_error)\n",
    "\n",
    "print(\"Confidence interval:\", confidence_interval)\n"
   ]
  },
  {
   "cell_type": "markdown",
   "id": "f9f488e5-1ae3-4536-ba5a-36af71c5b45e",
   "metadata": {},
   "source": [
    "Q12. A researcher is testing the effectiveness of two different teaching methods on student performance.\n",
    "Sample A has a mean score of 85 with a standard deviation of 6, while sample B has a mean score of 82\n",
    "with a standard deviation of 5. Conduct a hypothesis test to determine if the two teaching methods have a\n",
    "significant difference in student performance using a t-test with a significance level of 0.01."
   ]
  },
  {
   "cell_type": "code",
   "execution_count": 20,
   "id": "af28db9b-43ac-4a79-b81e-ad950671bbfc",
   "metadata": {},
   "outputs": [
    {
     "name": "stdout",
     "output_type": "stream",
     "text": [
      "Fail to reject null hypothesis\n"
     ]
    }
   ],
   "source": [
    "##Null hypothesis: The two teaching methods do not have a significant difference in student performance.\n",
    "##Alternative hypothesis: The two teaching methods have a significant difference in student performance.\n",
    "\n",
    "import math\n",
    "#let assuming sample size of sample A and B are equal and size is 30\n",
    "\n",
    "x1 = 85\n",
    "s1 = 6\n",
    "n1 = 30\n",
    "x2 = 82\n",
    "s2 = 5\n",
    "n2 = 30\n",
    "alpha = 0.01\n",
    "\n",
    "df = n1 + n2 - 2\n",
    "t_critical = abs(stats.t.ppf(alpha/2, df))\n",
    "\n",
    "s_pooled = math.sqrt(((n1 - 1) * s1**2 + (n2 - 1) * s2**2) / df)\n",
    "t = (x1 - x2) / (s_pooled * math.sqrt(1/n1 + 1/n2))\n",
    "\n",
    "if abs(t) > t_critical:\n",
    "    print(\"Reject null hypothesis\")\n",
    "else:\n",
    "    print(\"Fail to reject null hypothesis\")\n"
   ]
  },
  {
   "cell_type": "markdown",
   "id": "1473fcf2-3215-4573-b725-01cf9cfa11f2",
   "metadata": {},
   "source": [
    "Q13. A population has a mean of 60 and a standard deviation of 8. A sample of 50 observations has a mean\n",
    "of 65. Calculate the 90% confidence interval for the true population mean."
   ]
  },
  {
   "cell_type": "code",
   "execution_count": 21,
   "id": "aaa5f97e-639f-4cf0-88b5-aa026cf15041",
   "metadata": {},
   "outputs": [
    {
     "name": "stdout",
     "output_type": "stream",
     "text": [
      "Confidence interval: (63.13906055411732, 66.86093944588268)\n"
     ]
    }
   ],
   "source": [
    "import math\n",
    "\n",
    "x_bar = 65\n",
    "sigma = 8\n",
    "n = 50\n",
    "alpha = 0.1\n",
    "\n",
    "z_critical = stats.norm.ppf(1 - alpha/2)\n",
    "margin_of_error = z_critical * (sigma / math.sqrt(n))\n",
    "confidence_interval = (x_bar - margin_of_error, x_bar + margin_of_error)\n",
    "\n",
    "print(\"Confidence interval:\", confidence_interval)\n"
   ]
  },
  {
   "cell_type": "markdown",
   "id": "2ae158d2-1058-49ae-8268-06d869ffbe4f",
   "metadata": {},
   "source": [
    "Q14. In a study of the effects of caffeine on reaction time, a sample of 30 participants had an average\n",
    "reaction time of 0.25 seconds with a standard deviation of 0.05 seconds. Conduct a hypothesis test to\n",
    "determine if the caffeine has a significant effect on reaction time at a 90% confidence level using a t-test."
   ]
  },
  {
   "cell_type": "code",
   "execution_count": null,
   "id": "44e77bc1-c9a5-4d72-a161-5e29b2b1d2c0",
   "metadata": {},
   "outputs": [],
   "source": [
    "##Null Hypothesis: Average reaction time is 0.25 sec\n",
    "##Alternative hypothesis : Average reaction time is not  0.25 sec\n",
    "\n",
    "x_bar = 0.25\n",
    "s = 0.05\n",
    "n = 30\n",
    "alpha = 0.1\n",
    "\n",
    "df = n - 1\n",
    "t_critical = abs(stats.t.ppf(alpha/2, df))\n",
    "\n",
    "t = (x_bar - 0) / (s / math.sqrt(n))\n",
    "\n",
    "if abs(t) > t_critical:\n",
    "    print(\"Reject null hypothesis\")\n",
    "else:\n",
    "    print(\"Fail to reject null hypothesis\")\n"
   ]
  },
  {
   "cell_type": "code",
   "execution_count": null,
   "id": "d47dd752-9060-4fd5-bec6-65073c333395",
   "metadata": {},
   "outputs": [],
   "source": []
  }
 ],
 "metadata": {
  "kernelspec": {
   "display_name": "Python 3 (ipykernel)",
   "language": "python",
   "name": "python3"
  },
  "language_info": {
   "codemirror_mode": {
    "name": "ipython",
    "version": 3
   },
   "file_extension": ".py",
   "mimetype": "text/x-python",
   "name": "python",
   "nbconvert_exporter": "python",
   "pygments_lexer": "ipython3",
   "version": "3.10.8"
  }
 },
 "nbformat": 4,
 "nbformat_minor": 5
}
