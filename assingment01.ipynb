{
 "cells": [
  {
   "cell_type": "code",
   "execution_count": 1,
   "id": "7e59eeff-35aa-45e6-960c-5f35a1b4a976",
   "metadata": {},
   "outputs": [],
   "source": [
    "#Q1. Create one variable containing following type of data:\n",
    "string1 = \"vikash\"\n",
    "list1 = [1,2,3,4,\"vikash\",9.99]\n",
    "float1= 3.55\n",
    "tuple1 = ('Apple','Jackfruit','Banana','Sugarcane')\n",
    "\n"
   ]
  },
  {
   "cell_type": "code",
   "execution_count": 2,
   "id": "42997ddf-bc87-4557-96f9-9f22b1465b9a",
   "metadata": {},
   "outputs": [
    {
     "data": {
      "text/plain": [
       "str"
      ]
     },
     "execution_count": 2,
     "metadata": {},
     "output_type": "execute_result"
    }
   ],
   "source": [
    "#Q2. Given are some following variables containing data:\n",
    "var1 = ''\n",
    "type(var1)\n",
    "\n"
   ]
  },
  {
   "cell_type": "code",
   "execution_count": 3,
   "id": "c613a854-a96b-4f1a-bea0-cbe91d3c68a7",
   "metadata": {},
   "outputs": [
    {
     "data": {
      "text/plain": [
       "str"
      ]
     },
     "execution_count": 3,
     "metadata": {},
     "output_type": "execute_result"
    }
   ],
   "source": [
    "var2 = '[ DS , ML , Python]'\n",
    "type(var2)"
   ]
  },
  {
   "cell_type": "code",
   "execution_count": 4,
   "id": "485d1d56-757c-4f29-a3c9-7775f789f952",
   "metadata": {},
   "outputs": [
    {
     "data": {
      "text/plain": [
       "list"
      ]
     },
     "execution_count": 4,
     "metadata": {},
     "output_type": "execute_result"
    }
   ],
   "source": [
    "var3 = [ 'DS','ML','PYTHON']\n",
    "type(var3)"
   ]
  },
  {
   "cell_type": "code",
   "execution_count": 5,
   "id": "8d776d05-ec2e-45e2-ad93-a24f933b3971",
   "metadata": {},
   "outputs": [
    {
     "data": {
      "text/plain": [
       "int"
      ]
     },
     "execution_count": 5,
     "metadata": {},
     "output_type": "execute_result"
    }
   ],
   "source": [
    "var4 = 1\n",
    "type(var4)"
   ]
  },
  {
   "cell_type": "code",
   "execution_count": 6,
   "id": "da5e6582-c48d-4e8b-8692-3dc578f6ffee",
   "metadata": {},
   "outputs": [],
   "source": [
    "#Explain the use of the following operators using an example:\n",
    "\n",
    "a=10/2\n",
    "#it gives  division ans"
   ]
  },
  {
   "cell_type": "code",
   "execution_count": 7,
   "id": "045885c3-d447-4465-8ba4-4e5feee49ef9",
   "metadata": {},
   "outputs": [
    {
     "data": {
      "text/plain": [
       "5.0"
      ]
     },
     "execution_count": 7,
     "metadata": {},
     "output_type": "execute_result"
    }
   ],
   "source": [
    "a"
   ]
  },
  {
   "cell_type": "code",
   "execution_count": 8,
   "id": "dbc6646b-952d-4762-9695-b738259b09fa",
   "metadata": {},
   "outputs": [],
   "source": [
    "b=100%10\n",
    "#it gives reminder \n"
   ]
  },
  {
   "cell_type": "code",
   "execution_count": 9,
   "id": "45507de6-d915-4ee9-9781-49d0e6ad8d97",
   "metadata": {},
   "outputs": [
    {
     "data": {
      "text/plain": [
       "0"
      ]
     },
     "execution_count": 9,
     "metadata": {},
     "output_type": "execute_result"
    }
   ],
   "source": [
    "b"
   ]
  },
  {
   "cell_type": "code",
   "execution_count": 10,
   "id": "323c1350-d2a1-4b7c-a2cc-924f93b45cdc",
   "metadata": {},
   "outputs": [
    {
     "data": {
      "text/plain": [
       "3"
      ]
     },
     "execution_count": 10,
     "metadata": {},
     "output_type": "execute_result"
    }
   ],
   "source": [
    "c=10//3\n",
    "#floor division\n",
    "c"
   ]
  },
  {
   "cell_type": "code",
   "execution_count": 11,
   "id": "9c06a22e-6536-4eb6-bb3e-573e31e6ef85",
   "metadata": {},
   "outputs": [
    {
     "data": {
      "text/plain": [
       "32"
      ]
     },
     "execution_count": 11,
     "metadata": {},
     "output_type": "execute_result"
    }
   ],
   "source": [
    "d= 2**5\n",
    "#power oprator\n",
    "d"
   ]
  },
  {
   "cell_type": "code",
   "execution_count": 12,
   "id": "86b031fb-8004-4cea-bd88-f155d7b4c804",
   "metadata": {},
   "outputs": [
    {
     "name": "stdout",
     "output_type": "stream",
     "text": [
      "1\n",
      "2\n",
      "3\n",
      "4\n",
      "5\n",
      "xyz\n",
      "9.999\n",
      "True\n",
      "False\n",
      "(5+8j)\n"
     ]
    }
   ],
   "source": [
    "#Create a list of length 10 of your choice containing multiple types of data. Using for loop print the\n",
    "#element and its data type.\n",
    "\n",
    "myList = [1,2,3,4,5,\"xyz\",9.999,True,False,5+8j]\n",
    "for i in myList:\n",
    "    print(i)\n",
    "    type(i)\n",
    "    \n",
    "          "
   ]
  },
  {
   "cell_type": "code",
   "execution_count": 13,
   "id": "d546bcd9-405d-4c40-a9f6-a9e2f736eda3",
   "metadata": {},
   "outputs": [
    {
     "name": "stdin",
     "output_type": "stream",
     "text": [
      "Enter A 4000000\n",
      "Enter B 5\n"
     ]
    },
    {
     "name": "stdout",
     "output_type": "stream",
     "text": [
      "256.0 is divisible by 5 6 times\n"
     ]
    }
   ],
   "source": [
    "# Q5.  verify if the number A is purely divisible by number B and if so then how many\n",
    "#times it can be divisible.\n",
    "A = int(input(\"Enter A\"))\n",
    "B = int(input(\"Enter B\"))\n",
    "count = 0\n",
    "while A%B==0:\n",
    "    count = count +1\n",
    "    A= A/B\n",
    "    \n",
    "if count>0:\n",
    "    print(f\"{A} is divisible by {B} {count} times\")\n",
    "    \n",
    "else:\n",
    "      print(f\"{A} is not divisible by P{B}\")  \n",
    "    "
   ]
  },
  {
   "cell_type": "code",
   "execution_count": 2,
   "id": "21f887f3-69c8-4282-ae3e-2157fa5bf618",
   "metadata": {},
   "outputs": [
    {
     "name": "stdout",
     "output_type": "stream",
     "text": [
      "6\n",
      "3\n",
      "99\n",
      "75\n",
      "90\n",
      "60\n",
      "87\n",
      "15\n",
      "114\n",
      "732\n",
      "999\n",
      "30\n"
     ]
    }
   ],
   "source": [
    "#. Create a list containing 25 int type data. Using for loop and if-else condition print if the element is \n",
    "#divisible by 3 or not\n",
    "\n",
    "List = [6,8,3,23,88,99.32,56,77,99,1,10,44,75,100,80,90,60,11,87,15,114,732,999,30]\n",
    "for i in List:\n",
    "    if i%3==0:\n",
    "        print(i)\n",
    "        \n",
    "        \n",
    "        "
   ]
  },
  {
   "cell_type": "code",
   "execution_count": 4,
   "id": "98893129-4ec3-4122-84b9-ba526a7120c7",
   "metadata": {},
   "outputs": [
    {
     "name": "stdout",
     "output_type": "stream",
     "text": [
      "before mutation\n",
      "1\n",
      "5\n",
      "3\n",
      "7\n",
      "0\n",
      "3\n",
      "9\n",
      "after mution\n",
      "1\n",
      "5\n",
      "3\n",
      "55\n",
      "0\n",
      "3\n",
      "9\n"
     ]
    }
   ],
   "source": [
    "# What do you understand about mutable and immutable data types? Give examples for both showing \n",
    "#this property   \n",
    "\n",
    "l = [1,5,3,7,0,3,9]\n",
    "print(\"before mutation\")\n",
    "for i in l:\n",
    "    print(i)\n",
    "l[3]= 55\n",
    "print(\"after mution\")\n",
    "for i in l:\n",
    "    print(i)"
   ]
  },
  {
   "cell_type": "code",
   "execution_count": null,
   "id": "d4943b7a-4460-4f8a-80b0-dd82e495023e",
   "metadata": {},
   "outputs": [],
   "source": [
    "string =\"1234567\"\n",
    "string[2] = 55\n"
   ]
  }
 ],
 "metadata": {
  "kernelspec": {
   "display_name": "Python 3 (ipykernel)",
   "language": "python",
   "name": "python3"
  },
  "language_info": {
   "codemirror_mode": {
    "name": "ipython",
    "version": 3
   },
   "file_extension": ".py",
   "mimetype": "text/x-python",
   "name": "python",
   "nbconvert_exporter": "python",
   "pygments_lexer": "ipython3",
   "version": "3.10.8"
  }
 },
 "nbformat": 4,
 "nbformat_minor": 5
}
