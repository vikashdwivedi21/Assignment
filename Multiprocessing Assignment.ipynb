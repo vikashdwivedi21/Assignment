{
 "cells": [
  {
   "cell_type": "code",
   "execution_count": 1,
   "id": "3be10bd0-2b07-4fb7-a4a3-3e400228f5db",
   "metadata": {},
   "outputs": [
    {
     "data": {
      "text/plain": [
       "'\\nMultiprocessing is a technique that allows you to run multiple processes simultaneously\\nin a single program. This can be useful for improving the performance of a program by allowing\\nmultiple tasks to be executed at the same time.\\n\\nIn Python, multiprocessing is supported by the multiprocessing module. \\nThe multiprocessing module provides a number of classes and functions that you can\\nuse to create and manage processes.'"
      ]
     },
     "execution_count": 1,
     "metadata": {},
     "output_type": "execute_result"
    }
   ],
   "source": [
    "#Q1. What is multiprocessing in python? Why is it useful?\n",
    "\"\"\"\n",
    "Multiprocessing is a technique that allows you to run multiple processes simultaneously\n",
    "in a single program. This can be useful for improving the performance of a program by allowing\n",
    "multiple tasks to be executed at the same time.\n",
    "\n",
    "In Python, multiprocessing is supported by the multiprocessing module. \n",
    "The multiprocessing module provides a number of classes and functions that you can\n",
    "use to create and manage processes.\"\"\""
   ]
  },
  {
   "cell_type": "code",
   "execution_count": 3,
   "id": "ecfd7452-88fb-40c6-bbf9-8647885a51aa",
   "metadata": {},
   "outputs": [
    {
     "data": {
      "text/plain": [
       "'multithreading refers to the ability of a processor to execute multiple threads concurrently, \\nwhere each thread runs a process. Whereas multiprocessing refers to the ability of a system to run\\nmultiple processors in parallel, where each processor can run one or more threads.'"
      ]
     },
     "execution_count": 3,
     "metadata": {},
     "output_type": "execute_result"
    }
   ],
   "source": [
    "#Q2. What are the differences between multiprocessing and multithreading?\n",
    "  \n",
    "\"\"\"multithreading refers to the ability of a processor to execute multiple threads concurrently, \n",
    "where each thread runs a process. Whereas multiprocessing refers to the ability of a system to run\n",
    "multiple processors in parallel, where each processor can run one or more threads.\"\"\"\n"
   ]
  },
  {
   "cell_type": "code",
   "execution_count": 9,
   "id": "1201c01f-2dc0-4ae3-bd3d-a4152b052275",
   "metadata": {},
   "outputs": [
    {
     "name": "stdout",
     "output_type": "stream",
     "text": [
      "this is my main program\n",
      "this is my multi processing function\n"
     ]
    }
   ],
   "source": [
    "#Q3. Write a python code to create a process using the multiprocessing module.\n",
    "\n",
    "import multiprocessing\n",
    "\n",
    "def multi_processing():\n",
    "    print(\"this is my multi processing function\")\n",
    "    \n",
    "if __name__ == '__main__':\n",
    "    \n",
    "    m = multiprocessing.Process(target= multi_processing)\n",
    "    print(\"this is my main program\")\n",
    "    m.start()\n",
    "    m.join()\n",
    "\n"
   ]
  },
  {
   "cell_type": "code",
   "execution_count": 11,
   "id": "cbbb6bdb-3126-4e63-a83d-482d5cc26750",
   "metadata": {},
   "outputs": [
    {
     "name": "stdout",
     "output_type": "stream",
     "text": [
      "[8, 343, 125, 216]\n"
     ]
    }
   ],
   "source": [
    "#Q4. What is a multiprocessing pool in python? Why is it used?\n",
    "\n",
    "\"\"\"\n",
    "A multiprocessing pool in Python is a tool that allows you to run multiple tasks in parallel. \n",
    "This can be useful for improving the performance of a program by allowing multiple tasks to be\n",
    "executed at the same time.\n",
    "\n",
    "The multiprocessing.Pool() class in Python provides a way to create and manage a multiprocessing pool.\n",
    "The Pool() class takes an argument that specifies the number of worker processes that will be created.\n",
    "The Pool() class also provides a number of methods that you can use to submit tasks to the pool and get\n",
    "the results of the tasks.\"\"\"\n",
    "\n",
    "def cube(n):\n",
    "    return n**3\n",
    "if __name__ == '__main__':\n",
    "    with multiprocessing.Pool(processes= 8) as pool:\n",
    "        cubes = pool.map(cube,[2,7,5,6])\n",
    "        print(cubes)"
   ]
  },
  {
   "cell_type": "code",
   "execution_count": 15,
   "id": "84b376f0-ebe8-459d-830e-0e0b4f3821fd",
   "metadata": {},
   "outputs": [
    {
     "name": "stdout",
     "output_type": "stream",
     "text": [
      "0\n",
      "1\n",
      "4\n",
      "9\n",
      "16\n"
     ]
    }
   ],
   "source": [
    "#Q5. How canimport multiprocessing\n",
    "import multiprocessing\n",
    "def task(x):\n",
    "    return x * x\n",
    "\n",
    "pool = multiprocessing.Pool(processes=4)\n",
    "results = pool.map(task, range(5))\n",
    "\n",
    "for result in results:\n",
    "    print(result)"
   ]
  },
  {
   "cell_type": "code",
   "execution_count": 19,
   "id": "295b39ea-a321-481f-b8f7-92e152a22588",
   "metadata": {},
   "outputs": [
    {
     "name": "stdout",
     "output_type": "stream",
     "text": [
      "1\n",
      "2\n",
      "3\n",
      "4\n",
      "5\n",
      "6\n",
      "7\n",
      "8\n",
      "9\n",
      "10\n",
      "11\n"
     ]
    }
   ],
   "source": [
    "#Q6. Write a python program to create 4 processes, each process should print a different number using the\n",
    "#multiprocessing module in python.\n",
    "\n",
    "import multiprocessing\n",
    "def diffrent_num(x):\n",
    "       return x+1\n",
    "pool = multiprocessing.Pool(processes=4)\n",
    "myresult = pool.map(diffrent_num,range(11))\n",
    "\n",
    "for i in myresult:\n",
    "    list[print(i)]"
   ]
  },
  {
   "cell_type": "code",
   "execution_count": null,
   "id": "d45a5929-265c-4b14-814f-5897c49705f8",
   "metadata": {},
   "outputs": [],
   "source": []
  }
 ],
 "metadata": {
  "kernelspec": {
   "display_name": "Python 3 (ipykernel)",
   "language": "python",
   "name": "python3"
  },
  "language_info": {
   "codemirror_mode": {
    "name": "ipython",
    "version": 3
   },
   "file_extension": ".py",
   "mimetype": "text/x-python",
   "name": "python",
   "nbconvert_exporter": "python",
   "pygments_lexer": "ipython3",
   "version": "3.10.8"
  }
 },
 "nbformat": 4,
 "nbformat_minor": 5
}
