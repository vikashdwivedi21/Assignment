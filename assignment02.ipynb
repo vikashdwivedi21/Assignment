{
 "cells": [
  {
   "cell_type": "code",
   "execution_count": 2,
   "id": "f1072c7c-7c17-4ce8-a335-fbd6face1979",
   "metadata": {},
   "outputs": [
    {
     "data": {
      "text/plain": [
       "' this is multi\\nline comment using \\nstring literals'"
      ]
     },
     "execution_count": 2,
     "metadata": {},
     "output_type": "execute_result"
    }
   ],
   "source": [
    "#Q1. How do you comment code in Python? What are the different types of comments\n",
    "\n",
    "# this is single line comment\n",
    "\n",
    "\n",
    "#this is\n",
    "#multi line comment\n",
    "# using # tag\n",
    "\n",
    "\"\"\" this is multi\n",
    "line comment using \n",
    "string literals\"\"\"\n"
   ]
  },
  {
   "cell_type": "code",
   "execution_count": 3,
   "id": "04b3f1f0-cc33-4b41-9ebc-6c78805505d0",
   "metadata": {},
   "outputs": [],
   "source": [
    "# Q2. What are variables in Python? How do you declare and assign values to variables\n",
    "A= 512\n",
    "B= 626\n",
    "var = 12345\n"
   ]
  },
  {
   "cell_type": "code",
   "execution_count": 7,
   "id": "6e1eaa69-05cb-4545-ae78-2bc65ce77d76",
   "metadata": {},
   "outputs": [
    {
     "name": "stdout",
     "output_type": "stream",
     "text": [
      "After converting to integer base 2 : 18\n",
      "After converting to float : 10010.0\n"
     ]
    }
   ],
   "source": [
    "#Q3. How do you convert one data type to another in Python\n",
    "\n",
    "\n",
    "s = \"10010\"\n",
    "  \n",
    "\n",
    "c = int(s,2)\n",
    "print (\"After converting to integer base 2 : \", end=\"\")\n",
    "print (c)\n",
    "  \n",
    "# printing string converting to float\n",
    "e = float(s)\n",
    "print (\"After converting to float : \", end=\"\")\n",
    "print (e)\n",
    "\n"
   ]
  },
  {
   "cell_type": "code",
   "execution_count": 21,
   "id": "c740816c-f5ed-46dd-a317-1609e6225c87",
   "metadata": {},
   "outputs": [
    {
     "data": {
      "text/plain": [
       "'It’s quite easy to run Python scripts from the command line.\\n\\n1. Verify your terminal or command prompt can run Python\\n2. Create a Python script that is error-free\\n3. Use python your/file/name.py to run your script from the terminal'"
      ]
     },
     "execution_count": 21,
     "metadata": {},
     "output_type": "execute_result"
    }
   ],
   "source": [
    "#Q4. How do you write and execute a Python script from the command line?\n",
    "\"\"\"It’s quite easy to run Python scripts from the command line.\n",
    "\n",
    "1. Verify your terminal or command prompt can run Python\n",
    "2. Create a Python script that is error-free\n",
    "3. Use python your/file/name.py to run your script from the terminal\"\"\""
   ]
  },
  {
   "cell_type": "code",
   "execution_count": 11,
   "id": "92520509-0461-4259-9a26-51b8d474a788",
   "metadata": {},
   "outputs": [
    {
     "data": {
      "text/plain": [
       "[2, 3]"
      ]
     },
     "execution_count": 11,
     "metadata": {},
     "output_type": "execute_result"
    }
   ],
   "source": [
    "#Q5. Given a list my_list = [1, 2, 3, 4, 5], write the code to slice the list and obtain the sub-list [2, 3].\n",
    "\n",
    "my_list = [1, 2, 3, 4, 5]\n",
    "\n",
    "my_list[1:3:1]\n"
   ]
  },
  {
   "cell_type": "code",
   "execution_count": 13,
   "id": "b7aedf57-0fa9-45db-be04-c82513327131",
   "metadata": {},
   "outputs": [
    {
     "data": {
      "text/plain": [
       "complex"
      ]
     },
     "execution_count": 13,
     "metadata": {},
     "output_type": "execute_result"
    }
   ],
   "source": [
    "#Q6. What is a complex number in mathematics, and how is it represented in Python?\n",
    "\n",
    "comlex_no = 5+6j\n",
    "type(comlex_no)"
   ]
  },
  {
   "cell_type": "code",
   "execution_count": 14,
   "id": "a919ea0a-9882-4a04-897e-5359554856d8",
   "metadata": {},
   "outputs": [],
   "source": [
    "#Q7. What is the correct way to declare a variable named age and assign the value 25 to it\n",
    "named = 25\n",
    "\n"
   ]
  },
  {
   "cell_type": "code",
   "execution_count": 15,
   "id": "69dc8fbf-b2bc-4f8f-a2b6-dd2bda7133dd",
   "metadata": {},
   "outputs": [
    {
     "data": {
      "text/plain": [
       "float"
      ]
     },
     "execution_count": 15,
     "metadata": {},
     "output_type": "execute_result"
    }
   ],
   "source": [
    "#Q8. Declare a variable named price and assign the value 9.99 to it. What data type does this variable belong to?\n",
    "\n",
    "value = 9.99\n",
    "type(value)"
   ]
  },
  {
   "cell_type": "code",
   "execution_count": 16,
   "id": "22d959ed-c6e4-4281-a842-50ce53d9ae11",
   "metadata": {},
   "outputs": [
    {
     "name": "stdout",
     "output_type": "stream",
     "text": [
      "vikash dwivedi\n"
     ]
    }
   ],
   "source": [
    "#Q9. Create a variable named name and assign your full name to it as a string. How would you print the value of this variable\n",
    "\n",
    "name = \"vikash dwivedi\"\n",
    "print(name)"
   ]
  },
  {
   "cell_type": "code",
   "execution_count": 20,
   "id": "bab00fc9-238f-48a9-918e-43010833e0af",
   "metadata": {},
   "outputs": [
    {
     "data": {
      "text/plain": [
       "' World'"
      ]
     },
     "execution_count": 20,
     "metadata": {},
     "output_type": "execute_result"
    }
   ],
   "source": [
    "#Q10. Given the string \"Hello, World!\", extract the substring \"World\".\n",
    "\n",
    "Str = \"Hello World!\"\n",
    "Str[5:11:1]\n"
   ]
  },
  {
   "cell_type": "code",
   "execution_count": 23,
   "id": "dd43f5cd-1337-45c8-8911-227bd46df6ed",
   "metadata": {},
   "outputs": [
    {
     "name": "stdin",
     "output_type": "stream",
     "text": [
      "enter you are student or not 6767\n"
     ]
    }
   ],
   "source": [
    "# Create a variable named \"is_student\" and assign it a boolean value indicating whether you are currently a student or not\n",
    "\n",
    "is_student = a;\n",
    "a = bool(input(\"enter you are student or not [Enter 1 or 0]\"))\n",
    "if(is_student==1):\n",
    "    print(\"you are a student\")\n",
    "    \n",
    "else:\n",
    "    print(\"you are )\n",
    "\n"
   ]
  },
  {
   "cell_type": "code",
   "execution_count": null,
   "id": "91ae9f0f-2956-437a-b51d-14b8e377e4e2",
   "metadata": {},
   "outputs": [],
   "source": []
  }
 ],
 "metadata": {
  "kernelspec": {
   "display_name": "Python 3 (ipykernel)",
   "language": "python",
   "name": "python3"
  },
  "language_info": {
   "codemirror_mode": {
    "name": "ipython",
    "version": 3
   },
   "file_extension": ".py",
   "mimetype": "text/x-python",
   "name": "python",
   "nbconvert_exporter": "python",
   "pygments_lexer": "ipython3",
   "version": "3.10.8"
  }
 },
 "nbformat": 4,
 "nbformat_minor": 5
}
