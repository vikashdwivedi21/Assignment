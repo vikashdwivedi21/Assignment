{
 "cells": [
  {
   "cell_type": "code",
   "execution_count": 9,
   "id": "669534db-8562-4613-941d-5bc70fecafcf",
   "metadata": {},
   "outputs": [],
   "source": [
    "#Q1. Explain Class and Object with respect to Object-Oriented Programming. Give a suitable example\n",
    "\n",
    "#creating a class\n",
    "class Car:\n",
    "    def myCar(self):\n",
    "        print(\"this is my Car class\")\n",
    "        "
   ]
  },
  {
   "cell_type": "code",
   "execution_count": 10,
   "id": "1bb63ccd-2882-4f3a-80ac-8331cd06534d",
   "metadata": {},
   "outputs": [],
   "source": [
    "#creating object for Car class\n",
    "car = Car()"
   ]
  },
  {
   "cell_type": "code",
   "execution_count": 11,
   "id": "cef867eb-f9a0-4aaa-87ee-ebde97a9649d",
   "metadata": {},
   "outputs": [
    {
     "name": "stdout",
     "output_type": "stream",
     "text": [
      "this is my Car class\n"
     ]
    }
   ],
   "source": [
    "car.myCar()"
   ]
  },
  {
   "cell_type": "code",
   "execution_count": 12,
   "id": "83d49b0c-d412-40fe-aafc-bc0f084a0a06",
   "metadata": {},
   "outputs": [
    {
     "data": {
      "text/plain": [
       "'\\n1. polymorphism\\n2.inheritance\\n3. incapsulation\\n4.Abstraction\\n\\n'"
      ]
     },
     "execution_count": 12,
     "metadata": {},
     "output_type": "execute_result"
    }
   ],
   "source": [
    "#Q2. Name the four pillars of OOPs.\n",
    "\"\"\"\n",
    "1. polymorphism\n",
    "2.inheritance\n",
    "3. incapsulation\n",
    "4.Abstraction\n",
    "\n",
    "\"\"\""
   ]
  },
  {
   "cell_type": "code",
   "execution_count": 13,
   "id": "a8e8f2d0-9223-49b2-bc92-32640e144ef8",
   "metadata": {},
   "outputs": [],
   "source": [
    "#Explain why the __init__() function is used. Give a suitable example.\n",
    "\n",
    "\n",
    "class Students:\n",
    "    def __init__(self,name,roll_no,Class):\n",
    "        self.name = name\n",
    "        self.roll_no = roll_no\n",
    "        self.Class = Class\n",
    "        \n",
    "    def deatails(self):\n",
    "        return self.name,self.roll_no,self.Class\n",
    "\n"
   ]
  },
  {
   "cell_type": "code",
   "execution_count": 14,
   "id": "ef96acf3-4bc9-450c-b656-169cc9897447",
   "metadata": {},
   "outputs": [],
   "source": [
    "pwStudents = Students(\"vikash\",2070,12)"
   ]
  },
  {
   "cell_type": "code",
   "execution_count": 15,
   "id": "0601140e-d09c-4bc4-8262-9deb1d30560f",
   "metadata": {},
   "outputs": [
    {
     "data": {
      "text/plain": [
       "('vikash', 2070, 12)"
      ]
     },
     "execution_count": 15,
     "metadata": {},
     "output_type": "execute_result"
    }
   ],
   "source": [
    "pwStudents.deatails()"
   ]
  },
  {
   "cell_type": "code",
   "execution_count": 16,
   "id": "1b6650c9-11cd-4002-855f-dc510d9d22a4",
   "metadata": {},
   "outputs": [],
   "source": [
    "#Q4. Why self is used in OOPs?\n",
    "\"\"\"In object-oriented programming (OOP), self is a special keyword that refers\n",
    "to the current instance of the class. It is used in method definitions to access\n",
    "the object's attributes and methods.\"\"\"\n",
    "\n",
    "class Car:\n",
    "    def drive(self):\n",
    "        print(\"The car is driving\")\n"
   ]
  },
  {
   "cell_type": "code",
   "execution_count": 17,
   "id": "cd132ade-fdd3-42e2-81e3-f01b443e323c",
   "metadata": {},
   "outputs": [],
   "source": [
    "mycar = Car()"
   ]
  },
  {
   "cell_type": "code",
   "execution_count": 19,
   "id": "cd49e651-2f26-47be-9d3d-94a250d1b6f7",
   "metadata": {},
   "outputs": [
    {
     "name": "stdout",
     "output_type": "stream",
     "text": [
      "The car is driving\n"
     ]
    }
   ],
   "source": [
    "mycar.drive()"
   ]
  },
  {
   "cell_type": "code",
   "execution_count": 20,
   "id": "404708a0-cf69-43b6-b54e-83ab2e91852a",
   "metadata": {},
   "outputs": [],
   "source": [
    "#Q5. What is inheritance? Give an example for each type of inheritance.\n",
    "\n",
    "\"\"\"Inheritance is a fundamental concept in object-oriented programming (OOP) that allows one class to\n",
    "inherit the properties and behaviors of another class. This can be used to reduce\n",
    "code duplication and improve code readability and maintainability.\"\"\"\n",
    "\n",
    "#1.Single inheritance\n",
    "class Animal:\n",
    "    def speak(self):\n",
    "        print(\"I am an animal\")\n",
    "\n",
    "class Dog(Animal):\n",
    "    def bark(self):\n",
    "        print(\"Woof!\")\n",
    "\n"
   ]
  },
  {
   "cell_type": "code",
   "execution_count": 21,
   "id": "de492fe7-d40b-4eba-bfed-1a31536cda42",
   "metadata": {},
   "outputs": [],
   "source": [
    "myDog = Dog()"
   ]
  },
  {
   "cell_type": "code",
   "execution_count": 23,
   "id": "9438531b-5c0a-493b-b2ce-5dc9dadc056d",
   "metadata": {},
   "outputs": [
    {
     "name": "stdout",
     "output_type": "stream",
     "text": [
      "I am an animal\n"
     ]
    }
   ],
   "source": [
    "myDog.speak()"
   ]
  },
  {
   "cell_type": "code",
   "execution_count": null,
   "id": "bc0a2952-6acc-46e9-bca2-e5395521f5dc",
   "metadata": {},
   "outputs": [],
   "source": [
    "#2. multiple inheritance\n",
    "\n"
   ]
  }
 ],
 "metadata": {
  "kernelspec": {
   "display_name": "Python 3 (ipykernel)",
   "language": "python",
   "name": "python3"
  },
  "language_info": {
   "codemirror_mode": {
    "name": "ipython",
    "version": 3
   },
   "file_extension": ".py",
   "mimetype": "text/x-python",
   "name": "python",
   "nbconvert_exporter": "python",
   "pygments_lexer": "ipython3",
   "version": "3.10.8"
  }
 },
 "nbformat": 4,
 "nbformat_minor": 5
}
