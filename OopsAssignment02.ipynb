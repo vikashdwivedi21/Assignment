{
 "cells": [
  {
   "cell_type": "code",
   "execution_count": 4,
   "id": "3700d3ac-d044-473c-b965-3b469ddc282e",
   "metadata": {},
   "outputs": [],
   "source": [
    "#Q1. What is Abstraction in OOps? Explain with an example.\n",
    "\n",
    "\"\"\"Abstraction  is the process of hiding the implementation details of a class from its users and exposing only \n",
    "the necessary details. This allows users to focus on the functionality of the class without having to worry about how it works.\"\"\"\n",
    "    \n",
    "import abc\n",
    "    \n",
    "class AI:\n",
    "    @abc.abstractmethod\n",
    "    def machineLearning():\n",
    "        pass\n",
    "        \n",
    "    @abc.abstractmethod\n",
    "    def deepLearning():\n",
    "        pass\n",
    "        \n",
    "    @abc.abstractmethod\n",
    "    def nlp():\n",
    "        pass"
   ]
  },
  {
   "cell_type": "code",
   "execution_count": 5,
   "id": "306d07eb-d8b4-42d5-857d-3403ad9ba5f3",
   "metadata": {},
   "outputs": [],
   "source": [
    "class AiBot(AI):\n",
    "    def machineLearning(self):\n",
    "        print(\"this is my machine learning section\")\n",
    "        \n",
    "    def deepLearning(self):\n",
    "        print(\"this is my Deep learning section\")\n",
    "        \n",
    "    def nlp(self):\n",
    "        print(\"this is my NLP section\")\n",
    "    "
   ]
  },
  {
   "cell_type": "code",
   "execution_count": 6,
   "id": "8bdab209-4ae5-4149-9d27-f12f21677cc1",
   "metadata": {},
   "outputs": [],
   "source": [
    "myBot = AiBot()"
   ]
  },
  {
   "cell_type": "code",
   "execution_count": 8,
   "id": "3916f16f-8394-427a-9627-7d69e284e8a3",
   "metadata": {},
   "outputs": [
    {
     "name": "stdout",
     "output_type": "stream",
     "text": [
      "this is my machine learning section\n"
     ]
    }
   ],
   "source": [
    "myBot.machineLearning()"
   ]
  },
  {
   "cell_type": "code",
   "execution_count": 9,
   "id": "fbe4c57f-8385-4f58-97fd-4b58e62e325d",
   "metadata": {},
   "outputs": [
    {
     "name": "stdout",
     "output_type": "stream",
     "text": [
      "this is my Deep learning section\n"
     ]
    }
   ],
   "source": [
    "myBot.deepLearning()"
   ]
  },
  {
   "cell_type": "code",
   "execution_count": 10,
   "id": "c2c12ff5-4fdd-4455-b765-d5a6b216418f",
   "metadata": {},
   "outputs": [
    {
     "name": "stdout",
     "output_type": "stream",
     "text": [
      "this is my NLP section\n"
     ]
    }
   ],
   "source": [
    "myBot.nlp()"
   ]
  },
  {
   "cell_type": "code",
   "execution_count": 11,
   "id": "5054e679-846b-468b-886b-724608d7485a",
   "metadata": {},
   "outputs": [],
   "source": [
    "#Q2. Differentiate between Abstraction and Encapsulation. Explain with an example.\n",
    "\n",
    "\"\"\"abstraction is about hiding the details, while encapsulation is about hiding the implementation.\"\"\"\n",
    "\n",
    "#Example of Abstraction: Q. 01 is the example of Abstraction\n",
    "\n",
    "#Example of Encpsulation:\n",
    "\n",
    "class Bank_balance:\n",
    "    def __init__(self,balance):\n",
    "        self.__balance = balance\n",
    "        \n",
    "    def diposit(self,amount):\n",
    "         self.__balance = self.__balance+amount\n",
    "            \n",
    "    def withdraw(self,amount):\n",
    "        if self.__balance>=amount:\n",
    "            self.__balance = self.__balance-amount\n",
    "            \n",
    "    def get_balance(self):\n",
    "        return self.__balance\n",
    "    "
   ]
  },
  {
   "cell_type": "code",
   "execution_count": 12,
   "id": "4c7fc957-83e9-409f-986b-42374194025c",
   "metadata": {},
   "outputs": [],
   "source": [
    "Bank_Account = Bank_balance(1000)"
   ]
  },
  {
   "cell_type": "code",
   "execution_count": 13,
   "id": "daaa3e92-7b14-45a2-ae6d-c41e48f087f6",
   "metadata": {},
   "outputs": [],
   "source": [
    "Bank_Account.diposit(4000)"
   ]
  },
  {
   "cell_type": "code",
   "execution_count": 14,
   "id": "3f34cbc1-a0b8-412b-9775-5f3180a9db21",
   "metadata": {},
   "outputs": [
    {
     "data": {
      "text/plain": [
       "5000"
      ]
     },
     "execution_count": 14,
     "metadata": {},
     "output_type": "execute_result"
    }
   ],
   "source": [
    "Bank_Account.get_balance()"
   ]
  },
  {
   "cell_type": "code",
   "execution_count": 15,
   "id": "be1b0320-602d-4e7b-b4c1-a9d43e6c634d",
   "metadata": {},
   "outputs": [],
   "source": [
    "Bank_Account.withdraw(2000)"
   ]
  },
  {
   "cell_type": "code",
   "execution_count": 16,
   "id": "48ce41e3-db52-47de-8966-4e5d9547dcf8",
   "metadata": {},
   "outputs": [
    {
     "data": {
      "text/plain": [
       "3000"
      ]
     },
     "execution_count": 16,
     "metadata": {},
     "output_type": "execute_result"
    }
   ],
   "source": [
    "Bank_Account.get_balance()"
   ]
  },
  {
   "cell_type": "code",
   "execution_count": 17,
   "id": "493971ab-976d-43de-a92e-653b6c72d7b4",
   "metadata": {},
   "outputs": [
    {
     "data": {
      "text/plain": [
       "'The abc module in Python provides the infrastructure for defining abstract base classes (ABCs). \\nAbstract base classes are classes that cannot be instantiated, but they can be inherited from.\\nThis allows you to define a set of methods that all subclasses must implement.\\n\\nThe abc module is used to:\\n\\nDefine abstract base classes\\nDecorate methods as abstract\\nCheck if a class or instance satisfies an ABC'"
      ]
     },
     "execution_count": 17,
     "metadata": {},
     "output_type": "execute_result"
    }
   ],
   "source": [
    "#Q3. What is abc module in python? Why is it used?\n",
    "\n",
    "\n",
    "\"\"\"The abc module in Python provides the infrastructure for defining abstract base classes (ABCs). \n",
    "Abstract base classes are classes that cannot be instantiated, but they can be inherited from.\n",
    "This allows you to define a set of methods that all subclasses must implement.\n",
    "\n",
    "The abc module is used to:\n",
    "\n",
    "Define abstract base classes\n",
    "Decorate methods as abstract\n",
    "Check if a class or instance satisfies an ABC\"\"\""
   ]
  },
  {
   "cell_type": "code",
   "execution_count": null,
   "id": "d9db50c4-0f38-4785-88d6-7d27e84512a9",
   "metadata": {},
   "outputs": [],
   "source": [
    "#Q5. Can we create an instance of an abstract class? Explain your answer.\n",
    "\n"
   ]
  }
 ],
 "metadata": {
  "kernelspec": {
   "display_name": "Python 3 (ipykernel)",
   "language": "python",
   "name": "python3"
  },
  "language_info": {
   "codemirror_mode": {
    "name": "ipython",
    "version": 3
   },
   "file_extension": ".py",
   "mimetype": "text/x-python",
   "name": "python",
   "nbconvert_exporter": "python",
   "pygments_lexer": "ipython3",
   "version": "3.10.8"
  }
 },
 "nbformat": 4,
 "nbformat_minor": 5
}
