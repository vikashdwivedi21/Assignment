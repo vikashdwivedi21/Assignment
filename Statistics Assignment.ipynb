{
 "cells": [
  {
   "cell_type": "code",
   "execution_count": 12,
   "id": "c6f1ed30-a2fb-4706-8e15-7c24d619abfa",
   "metadata": {},
   "outputs": [
    {
     "data": {
      "text/plain": [
       "'\\nStatistics is the collecting, organizing, analyzing, and interpreting data in order to \\nunderstand and draw conclusions about the world\\n'"
      ]
     },
     "execution_count": 12,
     "metadata": {},
     "output_type": "execute_result"
    }
   ],
   "source": [
    "#Q1. What is Statistics?\n",
    "\n",
    "\"\"\"\n",
    "Statistics is the collecting, organizing, analyzing, and interpreting data in order to \n",
    "understand and draw conclusions about the world\n",
    "\"\"\""
   ]
  },
  {
   "cell_type": "code",
   "execution_count": 13,
   "id": "e08155fb-343e-44dc-a654-9014199c5f60",
   "metadata": {},
   "outputs": [
    {
     "data": {
      "text/plain": [
       "'\\n\\nthere are two type of data \\n1) Quantitative data:\\n      Quantitative data is data that can be expressed in numbers. It can be either discrete or continuous.\\n    \\n    Discrete:\\n    Discrete data is data that can only take on a finite number of values, such as the number of people \\n    in a room or the number of cars sold in a month. \\n    \\n     Continuous:\\n    Continuous data is data that can take on any value \\n    within a given range, such as the height of a person or the weight of an object.\\n   \\n2) Qualitative data:\\n      Qualitative data is data that cannot be expressed in numbers. It can be either categorical or ordinal.\\n      \\n      Categorical:\\n      Categorical data is data that can be divided into categories, such as gender or race.\\n      \\n      Ordinal:\\n      Ordinal data is data that can be arranged in order, such as the ranking of students in a class.\\n\\n'"
      ]
     },
     "execution_count": 13,
     "metadata": {},
     "output_type": "execute_result"
    }
   ],
   "source": [
    "#Q3. What are the different types of data and how do they differ from each other? Provide an example of\n",
    "#each type of data.\n",
    "\n",
    "\"\"\"\n",
    "\n",
    "there are two type of data \n",
    "1) Quantitative data:\n",
    "      Quantitative data is data that can be expressed in numbers. It can be either discrete or continuous.\n",
    "    \n",
    "    Discrete:\n",
    "    Discrete data is data that can only take on a finite number of values, such as the number of people \n",
    "    in a room or the number of cars sold in a month. \n",
    "    \n",
    "     Continuous:\n",
    "    Continuous data is data that can take on any value \n",
    "    within a given range, such as the height of a person or the weight of an object.\n",
    "   \n",
    "2) Qualitative data:\n",
    "      Qualitative data is data that cannot be expressed in numbers. It can be either categorical or ordinal.\n",
    "      \n",
    "      Categorical:\n",
    "      Categorical data is data that can be divided into categories, such as gender or race.\n",
    "      \n",
    "      Ordinal:\n",
    "      Ordinal data is data that can be arranged in order, such as the ranking of students in a class.\n",
    "\n",
    "\"\"\"\n",
    "\n"
   ]
  },
  {
   "cell_type": "code",
   "execution_count": 14,
   "id": "f9c7cfca-d6a6-4a08-ae79-a7521712437c",
   "metadata": {},
   "outputs": [
    {
     "data": {
      "text/plain": [
       "'\\n(i) Grading in exam: A+, A, B+, B, C+, C, D, E :-> Qualitative Ordinal Dataset\\n(ii) Colour of mangoes: yellow, green, orange, red :-> Qualitative Catagorical Dataset\\n(iii) Height data of a class: [178.9, 179, 179.5, 176, 177.2, 178.3, 175.8,...] :-> Quantitative Continuous Dataset\\n(iv) Number of mangoes exported by a farm: [500, 600, 478, 672, ...] :-> Quantitative Continuous Discrite Dataset'"
      ]
     },
     "execution_count": 14,
     "metadata": {},
     "output_type": "execute_result"
    }
   ],
   "source": [
    "#Q4. Categorise the following datasets with respect to quantitative and qualitative data types:\n",
    "\"\"\"\n",
    "(i) Grading in exam: A+, A, B+, B, C+, C, D, E :-> Qualitative Ordinal Dataset\n",
    "(ii) Colour of mangoes: yellow, green, orange, red :-> Qualitative Catagorical Dataset\n",
    "(iii) Height data of a class: [178.9, 179, 179.5, 176, 177.2, 178.3, 175.8,...] :-> Quantitative Continuous Dataset\n",
    "(iv) Number of mangoes exported by a farm: [500, 600, 478, 672, ...] :-> Quantitative Continuous Discrite Dataset\"\"\""
   ]
  },
  {
   "cell_type": "code",
   "execution_count": 15,
   "id": "8920ee44-9efc-4679-a282-a36fc4c3504c",
   "metadata": {},
   "outputs": [
    {
     "data": {
      "text/plain": [
       "'The concept of levels of measurement is a way of classifying variables according to the type of data they contain.\\nThere are four levels of measurement: nominal, ordinal, interval, and ratio.\\n* **Nominal** variables are the simplest type of variable. They are used to classify data into categories that have \\nno inherent order. For example, gender is a nominal variable because it can be used to classify people into two categories: male and female.\\n* **Ordinal** variables are a type of variable that can be ordered from low to high. However, the intervals between the values are not equal.\\nFor example, income is an ordinal variable because it can be used to rank people from lowest to highest income. However, the difference between \\na person who makes $50,000 and a person who makes $60,000 is not the same as the difference between a person who makes $100,000 and a person who makes $110,000.\\n* **Interval** variables are a type of variable that can be ordered from low to high and the intervals between the values are equal. However,\\nthe zero point on an interval scale is arbitrary. For example, temperature is an interval variable because it can be used to measure the amount of heat in an object. However, the zero point on the temperature scale is not absolute.\\n* **Ratio** variables are a type of variable that can be ordered from low to high, the intervals between the values are equal, and the zero \\npoint is absolute. For example, weight is a ratio variable because it can be used to measure the amount of mass in an object. The zero point on the weight scale is absolute because it represents the absence of mass.\\nIt is important to understand the different levels of measurement because they can affect the type of statistical analysis that can be \\nperformed on the data. For example, nominal variables can only be used with descriptive statistics, such as frequencies and percentages. \\nOrdinal variables can be used with descriptive statistics and some inferential statistics, such as t-tests and ANOVA. Interval variables \\ncan be used with all types of statistical analysis, including t-tests, ANOVA, and regression. Ratio variables can also be used with all \\ntypes of statistical analysis.\\n'"
      ]
     },
     "execution_count": 15,
     "metadata": {},
     "output_type": "execute_result"
    }
   ],
   "source": [
    "#Q5. Explain the concept of levels of measurement and give an example of a variable for each level.\n",
    "\"\"\"The concept of levels of measurement is a way of classifying variables according to the type of data they contain.\n",
    "There are four levels of measurement: nominal, ordinal, interval, and ratio.\n",
    "* **Nominal** variables are the simplest type of variable. They are used to classify data into categories that have \n",
    "no inherent order. For example, gender is a nominal variable because it can be used to classify people into two categories: male and female.\n",
    "* **Ordinal** variables are a type of variable that can be ordered from low to high. However, the intervals between the values are not equal.\n",
    "For example, income is an ordinal variable because it can be used to rank people from lowest to highest income. However, the difference between \n",
    "a person who makes $50,000 and a person who makes $60,000 is not the same as the difference between a person who makes $100,000 and a person who makes $110,000.\n",
    "* **Interval** variables are a type of variable that can be ordered from low to high and the intervals between the values are equal. However,\n",
    "the zero point on an interval scale is arbitrary. For example, temperature is an interval variable because it can be used to measure the amount of heat in an object. However, the zero point on the temperature scale is not absolute.\n",
    "* **Ratio** variables are a type of variable that can be ordered from low to high, the intervals between the values are equal, and the zero \n",
    "point is absolute. For example, weight is a ratio variable because it can be used to measure the amount of mass in an object. The zero point on the weight scale is absolute because it represents the absence of mass.\n",
    "It is important to understand the different levels of measurement because they can affect the type of statistical analysis that can be \n",
    "performed on the data. For example, nominal variables can only be used with descriptive statistics, such as frequencies and percentages. \n",
    "Ordinal variables can be used with descriptive statistics and some inferential statistics, such as t-tests and ANOVA. Interval variables \n",
    "can be used with all types of statistical analysis, including t-tests, ANOVA, and regression. Ratio variables can also be used with all \n",
    "types of statistical analysis.\n",
    "\"\"\""
   ]
  },
  {
   "cell_type": "code",
   "execution_count": null,
   "id": "c97c2355-0fce-4b13-8901-eb5105eb8931",
   "metadata": {},
   "outputs": [],
   "source": []
  },
  {
   "cell_type": "code",
   "execution_count": 16,
   "id": "d5bc25b4-4988-42b4-afc3-02bc788313c9",
   "metadata": {},
   "outputs": [
    {
     "data": {
      "text/plain": [
       "\"It is important to understand the level of measurement when analyzing data because the type of statistical analysis that can be\\nperformed on the data is dependent on the level of measurement. For example, nominal variables can only be used with descriptive statistics,\\nsuch as frequencies and percentages. Ordinal variables can be used with descriptive statistics and some inferential statistics, such as\\nt-tests and ANOVA. Interval variables can be used with all types of statistical analysis, including t-tests, ANOVA, and regression. Ratio \\nvariables can also be used with all types of statistical analysis.\\nTo illustrate this, let's say we have a dataset of students' test scores. The test scores are a ratio variable because they\\ncan be ordered from low to high, the intervals between the values are equal, and the zero point is absolute. This means that\\nwe can perform all types of statistical analysis on the data, including t-tests, ANOVA, and regression.\\nHowever, if we had a dataset of students' favorite colors, the favorite colors would be a nominal variable. This is because \\nfavorite colors cannot be ordered from low to high, the intervals between the values are not equal, and the zero point is\\nnot absolute. This means that we can only perform descriptive statistics on the data, such as frequencies and percentages.\""
      ]
     },
     "execution_count": 16,
     "metadata": {},
     "output_type": "execute_result"
    }
   ],
   "source": [
    "#+Q6. Why is it important to understand the level of measurement when analyzing data? Provide an example to illustrate your answer.\n",
    "\n",
    "\"\"\"It is important to understand the level of measurement when analyzing data because the type of statistical analysis that can be\n",
    "performed on the data is dependent on the level of measurement. For example, nominal variables can only be used with descriptive statistics,\n",
    "such as frequencies and percentages. Ordinal variables can be used with descriptive statistics and some inferential statistics, such as\n",
    "t-tests and ANOVA. Interval variables can be used with all types of statistical analysis, including t-tests, ANOVA, and regression. Ratio \n",
    "variables can also be used with all types of statistical analysis.\n",
    "To illustrate this, let's say we have a dataset of students' test scores. The test scores are a ratio variable because they\n",
    "can be ordered from low to high, the intervals between the values are equal, and the zero point is absolute. This means that\n",
    "we can perform all types of statistical analysis on the data, including t-tests, ANOVA, and regression.\n",
    "However, if we had a dataset of students' favorite colors, the favorite colors would be a nominal variable. This is because \n",
    "favorite colors cannot be ordered from low to high, the intervals between the values are not equal, and the zero point is\n",
    "not absolute. This means that we can only perform descriptive statistics on the data, such as frequencies and percentages.\"\"\""
   ]
  },
  {
   "cell_type": "code",
   "execution_count": 17,
   "id": "998a88b8-4ae2-4c41-90d2-c99e3c6c7969",
   "metadata": {},
   "outputs": [
    {
     "data": {
      "text/plain": [
       "'Nominal data is a type of categorical data that is used to classify objects into categories. The categories are not ordered, \\nso there is no meaning to the order of the categories. For example, the categories of hair color are blonde, brunette, redhead,\\nand black. There is no meaning to the order of these categories, so it does not make sense to say that blonde is better than\\nbrunette or that black is worse than redhead.\\nOrdinal data is a type of categorical data that is used to rank objects in order. The categories are ordered, so\\nthere is meaning to the order of the categories. For example, the categories of education level are high school, \\ncollege, and graduate school. There is meaning to the order of these categories, so it makes sense to say that college\\nis better than high school and that graduate school is better than college.\\nThe main difference between nominal data and ordinal data is that nominal data is not ordered, while ordinal data is ordered.'"
      ]
     },
     "execution_count": 17,
     "metadata": {},
     "output_type": "execute_result"
    }
   ],
   "source": [
    "#Q7. How nominal data type is different from ordinal data type.\n",
    "\"\"\"Nominal data is a type of categorical data that is used to classify objects into categories. The categories are not ordered, \n",
    "so there is no meaning to the order of the categories. For example, the categories of hair color are blonde, brunette, redhead,\n",
    "and black. There is no meaning to the order of these categories, so it does not make sense to say that blonde is better than\n",
    "brunette or that black is worse than redhead.\n",
    "Ordinal data is a type of categorical data that is used to rank objects in order. The categories are ordered, so\n",
    "there is meaning to the order of the categories. For example, the categories of education level are high school, \n",
    "college, and graduate school. There is meaning to the order of these categories, so it makes sense to say that college\n",
    "is better than high school and that graduate school is better than college.\n",
    "The main difference between nominal data and ordinal data is that nominal data is not ordered, while ordinal data is ordered.\"\"\"\n"
   ]
  },
  {
   "cell_type": "code",
   "execution_count": 18,
   "id": "8f4384de-30ae-4d07-b70a-4390bcd90fe3",
   "metadata": {},
   "outputs": [
    {
     "data": {
      "text/plain": [
       "'A box plot can be used to display data in terms of range. A box plot is a graphical representation of the\\ndistribution of data. It consists of a rectangle, called the box, which represents the middle 50% of the data. \\nThe top and bottom of the box represent the 75th and 25th percentiles, respectively. '"
      ]
     },
     "execution_count": 18,
     "metadata": {},
     "output_type": "execute_result"
    }
   ],
   "source": [
    "#Q8. Which type of plot can be used to display data in terms of range?\n",
    "\n",
    "\"\"\"A box plot can be used to display data in terms of range. A box plot is a graphical representation of the\n",
    "distribution of data. It consists of a rectangle, called the box, which represents the middle 50% of the data. \n",
    "The top and bottom of the box represent the 75th and 25th percentiles, respectively. \"\"\"\n",
    "\n",
    "\n"
   ]
  },
  {
   "cell_type": "code",
   "execution_count": 19,
   "id": "b062ffad-e239-4a05-aa6a-d119546fd426",
   "metadata": {},
   "outputs": [
    {
     "data": {
      "text/plain": [
       "'Descriptive statistics are used to summarize data and describe its main features. They include measures of central tendency,\\nsuch as the mean, median, and mode, and measures of variability, such as the range, standard deviation, and variance. Descriptive \\nstatistics can be used to describe a population or a sample.\\nInferential statistics are used to make inferences about a population based on data from a sample.\\nThey include hypothesis testing and confidence intervals. Hypothesis testing is used to test whether \\nthere is a statistically significant difference between two or more groups. Confidence intervals are \\nused to estimate the true value of a population parameter, such as the mean or proportion.\\nHere is an example of each type of statistics:\\n* Descriptive statistics: A study of the heights of 100 students in a class would use descriptive\\nstatistics to summarize the data, such as the mean height, the median height, and the range of heights.\\n* Inferential statistics: A study of the effectiveness of a new drug would use inferential statistics to \\ntest whether the drug is effective in treating a particular disease. The study would collect data from a sample of \\npatients who are taking the drug and compare their outcomes to those of a control group of patients who are not taking the drug.'"
      ]
     },
     "execution_count": 19,
     "metadata": {},
     "output_type": "execute_result"
    }
   ],
   "source": [
    "#Q9. Describe the difference between descriptive and inferential statistics. Give an example of each\n",
    "#type of statistics and explain how they are used.\n",
    "\n",
    "\n",
    "\"\"\"Descriptive statistics are used to summarize data and describe its main features. They include measures of central tendency,\n",
    "such as the mean, median, and mode, and measures of variability, such as the range, standard deviation, and variance. Descriptive \n",
    "statistics can be used to describe a population or a sample.\n",
    "Inferential statistics are used to make inferences about a population based on data from a sample.\n",
    "They include hypothesis testing and confidence intervals. Hypothesis testing is used to test whether \n",
    "there is a statistically significant difference between two or more groups. Confidence intervals are \n",
    "used to estimate the true value of a population parameter, such as the mean or proportion.\n",
    "Here is an example of each type of statistics:\n",
    "* Descriptive statistics: A study of the heights of 100 students in a class would use descriptive\n",
    "statistics to summarize the data, such as the mean height, the median height, and the range of heights.\n",
    "* Inferential statistics: A study of the effectiveness of a new drug would use inferential statistics to \n",
    "test whether the drug is effective in treating a particular disease. The study would collect data from a sample of \n",
    "patients who are taking the drug and compare their outcomes to those of a control group of patients who are not taking the drug.\"\"\"\n",
    "\n"
   ]
  },
  {
   "cell_type": "code",
   "execution_count": 20,
   "id": "e0faedab-e981-48af-919b-80b73bd6b238",
   "metadata": {},
   "outputs": [
    {
     "data": {
      "text/plain": [
       "'There are many different measures of central tendency and variability that can be used to describe a dataset.\\nSome of the most common measures of central tendency include the mean, median, and mode. The mean is the average of\\nall the values in the dataset. The median is the middle value in the dataset, when the values are arranged in order \\nfrom smallest to largest. The mode is the value that occurs most frequently in the dataset.\\nMeasures of variability are used to describe the spread of the data. Some of the most common measures of variability \\ninclude the range, standard deviation, and variance. The range is the difference between the largest and smallest \\nvalues in the dataset. The standard deviation is a measure of how much the data is spread out from the mean. The variance \\nis the square of the standard deviation.\\nThe choice of which measure of central tendency and variability to use depends on the nature of the data and the purpose of the analysis.'"
      ]
     },
     "execution_count": 20,
     "metadata": {},
     "output_type": "execute_result"
    }
   ],
   "source": [
    "#Q10. What are some common measures of central tendency and variability used in statistics? Explain\n",
    "#how each measure can be used to describe a dataset.\n",
    "\n",
    "\n",
    "\"\"\"There are many different measures of central tendency and variability that can be used to describe a dataset.\n",
    "Some of the most common measures of central tendency include the mean, median, and mode. The mean is the average of\n",
    "all the values in the dataset. The median is the middle value in the dataset, when the values are arranged in order \n",
    "from smallest to largest. The mode is the value that occurs most frequently in the dataset.\n",
    "Measures of variability are used to describe the spread of the data. Some of the most common measures of variability \n",
    "include the range, standard deviation, and variance. The range is the difference between the largest and smallest \n",
    "values in the dataset. The standard deviation is a measure of how much the data is spread out from the mean. The variance \n",
    "is the square of the standard deviation.\n",
    "The choice of which measure of central tendency and variability to use depends on the nature of the data and the purpose of the analysis.\"\"\"\n"
   ]
  },
  {
   "cell_type": "code",
   "execution_count": null,
   "id": "d114be28-7447-45bf-9f74-9c40cf6e9d54",
   "metadata": {},
   "outputs": [],
   "source": []
  }
 ],
 "metadata": {
  "kernelspec": {
   "display_name": "Python 3 (ipykernel)",
   "language": "python",
   "name": "python3"
  },
  "language_info": {
   "codemirror_mode": {
    "name": "ipython",
    "version": 3
   },
   "file_extension": ".py",
   "mimetype": "text/x-python",
   "name": "python",
   "nbconvert_exporter": "python",
   "pygments_lexer": "ipython3",
   "version": "3.10.8"
  }
 },
 "nbformat": 4,
 "nbformat_minor": 5
}
