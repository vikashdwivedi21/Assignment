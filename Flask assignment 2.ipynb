{
 "cells": [
  {
   "cell_type": "code",
   "execution_count": 1,
   "metadata": {},
   "outputs": [],
   "source": [
    "#Q1. Explain GET and POST methods.\n",
    "\n",
    "\n",
    "\"\"\"\n",
    "GET and POST are two commonly used HTTP methods for sending and receiving data between a client and a server.\n",
    "GET method: To handle a GET request in Flask, you can use the @app.route decorator along with the methods parameter set to ['GET'].\n",
    "\"\"\"\n",
    "\n",
    "from flask import Flask, request\n",
    "\n",
    "app = Flask(__name__)\n",
    "\n",
    "@app.route('/users', methods=['GET'])\n",
    "def get_users():\n",
    "    # Logic to retrieve users\n",
    "    users = ['John', 'Jane', 'Alice']\n",
    "    return {'users': users}\n"
   ]
  },
  {
   "cell_type": "code",
   "execution_count": 2,
   "metadata": {},
   "outputs": [],
   "source": [
    "\"\"\"POST method: To handle a POST request in Flask, you can use the @app.route decorator with the methods parameter set to ['POST']\"\"\"\n",
    "\n",
    "from flask import Flask, request\n",
    "\n",
    "app = Flask(__name__)\n",
    "\n",
    "@app.route('/users', methods=['POST'])\n",
    "def create_user():\n",
    "    user_data = request.json\n",
    "    # Logic to create a new user\n",
    "    new_user = {'name': user_data['name'], 'email': user_data['email']}\n",
    "    return {'message': 'User created successfully', 'user': new_user}\n"
   ]
  },
  {
   "cell_type": "code",
   "execution_count": 3,
   "metadata": {},
   "outputs": [
    {
     "data": {
      "text/plain": [
       "\" The `request` object in Flask is used to access the information from the incoming HTTP request made by the client. It provides access to various properties and methods that allow you to retrieve data from the request, such as headers, query parameters, form data, and JSON payload.\\n\\nHere are some common use cases for the `request` object in Flask:\\n\\n1. Accessing form data: When a user submits a form, the form data can be accessed using `request.form`. This allows you to retrieve values of form fields like input, textarea, select, etc.\\n\\n2. Retrieving query parameters: Query parameters are the key-value pairs appended to the URL. You can access these parameters using `request.args`. It is useful when you want to retrieve values from the URL for filtering or pagination purposes.\\n\\n3. Handling JSON payload: If the client sends a JSON payload in the request body, you can access it using `request.json`. This is commonly used when building APIs that accept JSON data.\\n\\n4. Accessing headers: The `request.headers` attribute provides access to the headers sent with the request. You can retrieve specific headers like `Content-Type`, `User-Agent`, etc. using `request.headers.get('Header-Name')`.\\n\\n5. File uploads: When handling file uploads, you can access the uploaded files using `request.files`. It allows you to retrieve the uploaded file(s), save them to the server, and perform further processing.\\n\\nBy using the `request` object, you can extract and process the data sent by the client, enabling you to build dynamic and interactive web applications in Flask.\""
      ]
     },
     "execution_count": 3,
     "metadata": {},
     "output_type": "execute_result"
    }
   ],
   "source": [
    "#Q2.Why is request is used in flask\n",
    "\n",
    "\"\"\" The `request` object in Flask is used to access the information from the incoming HTTP request made by the client. It provides access to various properties and methods that allow you to retrieve data from the request, such as headers, query parameters, form data, and JSON payload.\n",
    "\n",
    "Here are some common use cases for the `request` object in Flask:\n",
    "\n",
    "1. Accessing form data: When a user submits a form, the form data can be accessed using `request.form`. This allows you to retrieve values of form fields like input, textarea, select, etc.\n",
    "\n",
    "2. Retrieving query parameters: Query parameters are the key-value pairs appended to the URL. You can access these parameters using `request.args`. It is useful when you want to retrieve values from the URL for filtering or pagination purposes.\n",
    "\n",
    "3. Handling JSON payload: If the client sends a JSON payload in the request body, you can access it using `request.json`. This is commonly used when building APIs that accept JSON data.\n",
    "\n",
    "4. Accessing headers: The `request.headers` attribute provides access to the headers sent with the request. You can retrieve specific headers like `Content-Type`, `User-Agent`, etc. using `request.headers.get('Header-Name')`.\n",
    "\n",
    "5. File uploads: When handling file uploads, you can access the uploaded files using `request.files`. It allows you to retrieve the uploaded file(s), save them to the server, and perform further processing.\n",
    "\n",
    "By using the `request` object, you can extract and process the data sent by the client, enabling you to build dynamic and interactive web applications in Flask.\"\"\""
   ]
  },
  {
   "cell_type": "code",
   "execution_count": 4,
   "metadata": {},
   "outputs": [
    {
     "data": {
      "text/plain": [
       "'The `redirect()` function in Flask is used to redirect the user to a different URL or route within the application. It is commonly used after processing a form submission or completing a certain action to redirect the user to a different page.\\n\\nRedirecting the user can be useful for various reasons, such as:\\n\\n1. Redirecting after a successful form submission: After processing a form submission, it is common to redirect the user to a different page to display a success message or to show the updated data.\\n2. Handling authentication and authorization: If a user tries to access a restricted page without proper authentication or authorization, they can be redirected to a login page or an error page.\\n3. Handling errors and exceptions: In case of errors or exceptions, redirecting the user to an error page can provide a better user experience instead of showing a stack trace or error message directly.\\n\\n `redirect()` allows Flask developers to control the flow of the application and guide the user to different pages or routes based on the desired behavior.'"
      ]
     },
     "execution_count": 4,
     "metadata": {},
     "output_type": "execute_result"
    }
   ],
   "source": [
    "#Q3. Why is redirect() is used in flask\n",
    "\n",
    "\"\"\"The `redirect()` function in Flask is used to redirect the user to a different URL or route within the application. It is commonly used after processing a form submission or completing a certain action to redirect the user to a different page.\n",
    "\n",
    "Redirecting the user can be useful for various reasons, such as:\n",
    "\n",
    "1. Redirecting after a successful form submission: After processing a form submission, it is common to redirect the user to a different page to display a success message or to show the updated data.\n",
    "2. Handling authentication and authorization: If a user tries to access a restricted page without proper authentication or authorization, they can be redirected to a login page or an error page.\n",
    "3. Handling errors and exceptions: In case of errors or exceptions, redirecting the user to an error page can provide a better user experience instead of showing a stack trace or error message directly.\n",
    "\n",
    " `redirect()` allows Flask developers to control the flow of the application and guide the user to different pages or routes based on the desired behavior.\"\"\""
   ]
  },
  {
   "cell_type": "code",
   "execution_count": 5,
   "metadata": {},
   "outputs": [
    {
     "data": {
      "text/plain": [
       "\"In Flask, templates are used to create dynamic HTML pages that can be rendered with data from the application. Templates allow developers to separate the presentation logic from the application logic, making it easier to maintain and update the user interface.\\n\\nFlask uses a templating engine called Jinja2, which provides a flexible and powerful way to generate HTML content. Templates are written in HTML with additional syntax and features provided by Jinja2.\\n\\nTemplates in Flask have the following characteristics:\\n\\n1. **Dynamic Content**: Templates can include placeholders or variables that are replaced with actual values when rendered. These variables can come from the application's data or logic.\\n\\n2. **Template Inheritance**: Flask templates support inheritance, allowing developers to create a base template with common elements and then extend or override specific sections in child templates. This promotes code reuse and consistency across different pages.\\n\\n3. **Control Structures**: Jinja2 provides control structures like loops, conditionals, and filters that can be used within templates to manipulate and display data dynamically.\\n\\n4. **Template Context**: Templates have access to a context, which is a dictionary-like object containing variables and functions that can be used within the template. The context is typically provided by the Flask application or view function.\\n\\nTo use templates in Flask, developers need to define a templates directory in the application structure and create HTML templates within that directory. Flask then provides functions like `render_template()` to render these templates with the desired data and return them as a response to the user's request.\\n\\nOverall, templates in Flask are a powerful tool for generating dynamic HTML content and separating the presentation logic from the application logic.\""
      ]
     },
     "execution_count": 5,
     "metadata": {},
     "output_type": "execute_result"
    }
   ],
   "source": [
    "#Q4.What are template in flask? Why is render_template() is used.\n",
    "\n",
    "\"\"\"In Flask, templates are used to create dynamic HTML pages that can be rendered with data from the application. Templates allow developers to separate the presentation logic from the application logic, making it easier to maintain and update the user interface.\n",
    "\n",
    "Flask uses a templating engine called Jinja2, which provides a flexible and powerful way to generate HTML content. Templates are written in HTML with additional syntax and features provided by Jinja2.\n",
    "\n",
    "Templates in Flask have the following characteristics:\n",
    "\n",
    "1. **Dynamic Content**: Templates can include placeholders or variables that are replaced with actual values when rendered. These variables can come from the application's data or logic.\n",
    "\n",
    "2. **Template Inheritance**: Flask templates support inheritance, allowing developers to create a base template with common elements and then extend or override specific sections in child templates. This promotes code reuse and consistency across different pages.\n",
    "\n",
    "3. **Control Structures**: Jinja2 provides control structures like loops, conditionals, and filters that can be used within templates to manipulate and display data dynamically.\n",
    "\n",
    "4. **Template Context**: Templates have access to a context, which is a dictionary-like object containing variables and functions that can be used within the template. The context is typically provided by the Flask application or view function.\n",
    "\n",
    "To use templates in Flask, developers need to define a templates directory in the application structure and create HTML templates within that directory. Flask then provides functions like `render_template()` to render these templates with the desired data and return them as a response to the user's request.\n",
    "\n",
    "Overall, templates in Flask are a powerful tool for generating dynamic HTML content and separating the presentation logic from the application logic.\"\"\""
   ]
  },
  {
   "cell_type": "code",
   "execution_count": 6,
   "metadata": {},
   "outputs": [
    {
     "data": {
      "text/plain": [
       "\"The render_template() function in Flask is used to render a template and generate an HTML response that can be returned to the user's browser. It is a built-in function provided by Flask's templating engine, Jinja2.\\n\\nHere are a few reasons why render_template() is used in Flask:\\n\\nDynamic HTML Generation: render_template() allows developers to generate dynamic HTML pages by combining static HTML code with dynamic data. It takes a template file as input, processes it with the Jinja2 templating engine, replaces placeholders with actual values, and returns the generated HTML as a response.\\n\\nSeparation of Concerns: By using render_template(), developers can separate the application logic from the presentation logic. The application logic resides in the Flask views or routes, while the presentation logic is defined in the templates. This separation makes it easier to maintain and update the user interface independently from the backend logic.\\n\\nTemplate Inheritance: render_template() supports template inheritance, which allows developers to define a base template with common elements and then extend or override specific sections in child templates. This promotes code reuse and consistency across different pages.\\n\\nContext Passing: render_template() also allows passing data to the template in the form of a context. The context is a dictionary-like object that contains variables and functions that can be accessed within the template. This enables the dynamic rendering of data in the HTML page.\\n\\nTo use render_template(), developers need to define a templates directory in the Flask application structure and create HTML templates within that directory. The function takes the name of the template file as an argument and can also accept additional keyword arguments to pass data to the template.\""
      ]
     },
     "execution_count": 6,
     "metadata": {},
     "output_type": "execute_result"
    }
   ],
   "source": [
    "\"\"\"The render_template() function in Flask is used to render a template and generate an HTML response that can be returned to the user's browser. It is a built-in function provided by Flask's templating engine, Jinja2.\n",
    "\n",
    "Here are a few reasons why render_template() is used in Flask:\n",
    "\n",
    "Dynamic HTML Generation: render_template() allows developers to generate dynamic HTML pages by combining static HTML code with dynamic data. It takes a template file as input, processes it with the Jinja2 templating engine, replaces placeholders with actual values, and returns the generated HTML as a response.\n",
    "\n",
    "Separation of Concerns: By using render_template(), developers can separate the application logic from the presentation logic. The application logic resides in the Flask views or routes, while the presentation logic is defined in the templates. This separation makes it easier to maintain and update the user interface independently from the backend logic.\n",
    "\n",
    "Template Inheritance: render_template() supports template inheritance, which allows developers to define a base template with common elements and then extend or override specific sections in child templates. This promotes code reuse and consistency across different pages.\n",
    "\n",
    "Context Passing: render_template() also allows passing data to the template in the form of a context. The context is a dictionary-like object that contains variables and functions that can be accessed within the template. This enables the dynamic rendering of data in the HTML page.\n",
    "\n",
    "To use render_template(), developers need to define a templates directory in the Flask application structure and create HTML templates within that directory. The function takes the name of the template file as an argument and can also accept additional keyword arguments to pass data to the template.\"\"\""
   ]
  },
  {
   "cell_type": "code",
   "execution_count": 9,
   "metadata": {},
   "outputs": [
    {
     "name": "stdout",
     "output_type": "stream",
     "text": [
      " * Serving Flask app '__main__'\n",
      " * Debug mode: off\n"
     ]
    },
    {
     "name": "stderr",
     "output_type": "stream",
     "text": [
      "WARNING: This is a development server. Do not use it in a production deployment. Use a production WSGI server instead.\n",
      " * Running on all addresses (0.0.0.0)\n",
      " * Running on http://127.0.0.1:5000\n",
      " * Running on http://192.168.33.218:5000\n",
      "Press CTRL+C to quit\n",
      "127.0.0.1 - - [13/Jul/2023 22:30:27] \"GET / HTTP/1.1\" 200 -\n",
      "192.168.33.218 - - [13/Jul/2023 22:30:47] \"GET / HTTP/1.1\" 200 -\n"
     ]
    }
   ],
   "source": [
    "#Q5. Create a simple API. Use postman to test it. Attach the screenshot opf the output \n",
    "\n",
    "from flask import Flask, jsonify, request\n",
    "\n",
    "app = Flask(__name__)\n",
    "\n",
    "@app.route('/', methods=['GET'])\n",
    "def get_data():\n",
    "    data = {'message': 'This is a GET request'}\n",
    "    return jsonify(data)\n",
    "\n",
    "@app.route('/', methods=['POST'])\n",
    "def post_data():\n",
    "    content = request.json\n",
    "    data = {'message': 'This is a POST request', 'received_data': content}\n",
    "    return jsonify(data)\n",
    "\n",
    "if __name__ == '__main__':\n",
    "    app.run(host=\"0.0.0.0\")\n"
   ]
  },
  {
   "cell_type": "code",
   "execution_count": 11,
   "metadata": {},
   "outputs": [
    {
     "data": {
      "image/png": "[encoded data removed]",
      "text/plain": [
       "<IPython.core.display.Image object>"
      ]
     },
     "execution_count": 11,
     "metadata": {},
     "output_type": "execute_result"
    }
   ],
   "source": [
    "from IPython.display import Image\n",
    "Image(filename=\"C:\\\\Users\\\\vikas\\\\Pictures\\\\Screenshots\\\\Screenshot 2023-07-13 223105.png\")"
   ]
  },
  {
   "cell_type": "code",
   "execution_count": null,
   "metadata": {},
   "outputs": [],
   "source": []
  }
 ],
 "metadata": {
  "kernelspec": {
   "display_name": "Python 3",
   "language": "python",
   "name": "python3"
  },
  "language_info": {
   "codemirror_mode": {
    "name": "ipython",
    "version": 3
   },
   "file_extension": ".py",
   "mimetype": "text/x-python",
   "name": "python",
   "nbconvert_exporter": "python",
   "pygments_lexer": "ipython3",
   "version": "3.11.4"
  },
  "orig_nbformat": 4
 },
 "nbformat": 4,
 "nbformat_minor": 2
}
