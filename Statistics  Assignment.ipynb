{
 "cells": [
  {
   "cell_type": "markdown",
   "id": "f0ce3324-6ebd-41e7-a96a-f7a896386d2f",
   "metadata": {},
   "source": [
    " What is the Probability density function?\n",
    "\n"
   ]
  },
  {
   "cell_type": "code",
   "execution_count": 10,
   "id": "ec71bc66-9080-4da4-b427-35e04946bac3",
   "metadata": {},
   "outputs": [
    {
     "data": {
      "text/plain": [
       "'The probability density function (PDF) is a function that describes the probability of a random variable taking on a given value.\\nIt is a continuous function, meaning that it can take on any value within a given range. The PDF is often used to represent the distribution \\nof a random variable, and it can be used to calculate the probability of the random variable taking on a given value.\\nThe PDF is defined as the derivative of the cumulative distribution function (CDF). The CDF is a function that describes the probability \\nof a random variable being less than or equal to a given value. The PDF can be used to calculate the CDF, and the CDF can be used to \\ncalculate the PDF.\\nThe PDF is an important tool for understanding the distribution of a random variable. It can be used to make predictions\\nabout the value of the random variable, and it can be used to compare different distributions.'"
      ]
     },
     "execution_count": 10,
     "metadata": {},
     "output_type": "execute_result"
    }
   ],
   "source": [
    "\"\"\"The probability density function (PDF) is a function that describes the probability of a random variable taking on a given value.\n",
    "It is a continuous function, meaning that it can take on any value within a given range. The PDF is often used to represent the distribution \n",
    "of a random variable, and it can be used to calculate the probability of the random variable taking on a given value.\n",
    "The PDF is defined as the derivative of the cumulative distribution function (CDF). The CDF is a function that describes the probability \n",
    "of a random variable being less than or equal to a given value. The PDF can be used to calculate the CDF, and the CDF can be used to \n",
    "calculate the PDF.\n",
    "The PDF is an important tool for understanding the distribution of a random variable. It can be used to make predictions\n",
    "about the value of the random variable, and it can be used to compare different distributions.\"\"\""
   ]
  },
  {
   "cell_type": "markdown",
   "id": "d109f7a1-8b58-43e3-b7e0-e2d05c79d42b",
   "metadata": {},
   "source": [
    "Q2. What are the types of Probability distribution?"
   ]
  },
  {
   "cell_type": "code",
   "execution_count": 11,
   "id": "301476da-da73-4297-ae27-91918f6c2dd7",
   "metadata": {},
   "outputs": [
    {
     "data": {
      "text/plain": [
       "'There are many different types of probability distributions. Some of the most common include:\\n* The binomial distribution: This distribution describes the number of successes in a sequence of independent experiments,\\neach of which has a constant probability of success.\\n* The Poisson distribution: This distribution describes the number of events that occur in a fixed interval of time or space.\\n* The normal distribution: This distribution is a bell-shaped curve that is often used to model the distribution of data in a population.\\n* The uniform distribution: This distribution describes the values that a random variable can take on, with all values being equally likely.\\n* The exponential distribution: This distribution describes the time until the occurrence of an event, given that the event is certain to occur.\\nThese are just a few of the many different types of probability distributions. The type of distribution that is used to model a particular\\nset of data will depend on the characteristics of the data.'"
      ]
     },
     "execution_count": 11,
     "metadata": {},
     "output_type": "execute_result"
    }
   ],
   "source": [
    "\"\"\"There are many different types of probability distributions. Some of the most common include:\n",
    "* The binomial distribution: This distribution describes the number of successes in a sequence of independent experiments,\n",
    "each of which has a constant probability of success.\n",
    "* The Poisson distribution: This distribution describes the number of events that occur in a fixed interval of time or space.\n",
    "* The normal distribution: This distribution is a bell-shaped curve that is often used to model the distribution of data in a population.\n",
    "* The uniform distribution: This distribution describes the values that a random variable can take on, with all values being equally likely.\n",
    "* The exponential distribution: This distribution describes the time until the occurrence of an event, given that the event is certain to occur.\n",
    "These are just a few of the many different types of probability distributions. The type of distribution that is used to model a particular\n",
    "set of data will depend on the characteristics of the data.\"\"\""
   ]
  },
  {
   "cell_type": "markdown",
   "id": "90548dee-52cd-406b-95f5-ce7f0f880ef9",
   "metadata": {},
   "source": [
    "Q3. Write a Python function to calculate the probability density function of a normal distribution with\n",
    "given mean and standard deviation at a given point."
   ]
  },
  {
   "cell_type": "code",
   "execution_count": 12,
   "id": "14335ee9-5224-4e32-9247-2a49090fb141",
   "metadata": {},
   "outputs": [],
   "source": [
    "import numpy as np\n",
    "\n",
    "def normal_pdf(x, mu, sigma):\n",
    "  \n",
    "  # Calculate the exponent.\n",
    "  exponent = -((x - mu) ** 2) / (2 * sigma ** 2)\n",
    "  # Calculate the probability density function.\n",
    "  pdf = 1 / (sigma * np.sqrt(2 * np.pi)) * np.exp(exponent)\n",
    "  return pdf\n"
   ]
  },
  {
   "cell_type": "code",
   "execution_count": 13,
   "id": "40bb60c0-6778-4ef8-bb61-8756693c0b90",
   "metadata": {},
   "outputs": [
    {
     "data": {
      "text/plain": [
       "1.0731918678315302e-32"
      ]
     },
     "execution_count": 13,
     "metadata": {},
     "output_type": "execute_result"
    }
   ],
   "source": [
    "normal_pdf(50,74,2)"
   ]
  },
  {
   "cell_type": "markdown",
   "id": "7e6d6962-92ca-4fe6-84d8-27aad3f5c41c",
   "metadata": {},
   "source": [
    "Q4. What are the properties of Binomial distribution? Give two examples of events where binomial\n",
    "distribution can be applied."
   ]
  },
  {
   "cell_type": "code",
   "execution_count": 14,
   "id": "30401898-9a31-48b0-9e31-0b98eb874122",
   "metadata": {},
   "outputs": [
    {
     "data": {
      "text/plain": [
       "'The properties of the binomial distribution are:\\n\\nThere are only two possible outcomes for each trial.\\nThe trials are independent of each other.\\nThe probability of success remains the same for each trial.\\nThe number of trials is fixed.\\nHere are two examples of events where the binomial distribution can be applied:\\n\\nA company that is conducting a marketing campaign wants to know the probability of a certain number of people responding to the campaign.\\nA teacher wants to know the probability of a certain number of students passing an exam.\\nIn both of these cases, the number of trials is fixed (the number of people who receive the marketing campaign or the number of students who\\ntake the exam). The trials are independent of each other (the success or failure of one person does not affect the success or failure of \\nanother person). The probability of success remains the same for each trial (the probability that a person will respond to the marketing\\ncampaign is the same for all people, and the probability that a student will pass the exam is the same for all students).\\n\\nThe binomial distribution can be used to calculate the probability of any number of successes in a fixed number of trials. This can be \\nuseful for a variety of purposes, such as marketing, education, and statistics.'"
      ]
     },
     "execution_count": 14,
     "metadata": {},
     "output_type": "execute_result"
    }
   ],
   "source": [
    "\"\"\"The properties of the binomial distribution are:\n",
    "\n",
    "There are only two possible outcomes for each trial.\n",
    "The trials are independent of each other.\n",
    "The probability of success remains the same for each trial.\n",
    "The number of trials is fixed.\n",
    "Here are two examples of events where the binomial distribution can be applied:\n",
    "\n",
    "A company that is conducting a marketing campaign wants to know the probability of a certain number of people responding to the campaign.\n",
    "A teacher wants to know the probability of a certain number of students passing an exam.\n",
    "In both of these cases, the number of trials is fixed (the number of people who receive the marketing campaign or the number of students who\n",
    "take the exam). The trials are independent of each other (the success or failure of one person does not affect the success or failure of \n",
    "another person). The probability of success remains the same for each trial (the probability that a person will respond to the marketing\n",
    "campaign is the same for all people, and the probability that a student will pass the exam is the same for all students).\n",
    "\n",
    "The binomial distribution can be used to calculate the probability of any number of successes in a fixed number of trials. This can be \n",
    "useful for a variety of purposes, such as marketing, education, and statistics.\"\"\""
   ]
  },
  {
   "cell_type": "markdown",
   "id": "7dd2b296-bd3d-4723-bad9-3ca2044cb906",
   "metadata": {},
   "source": [
    "Q5. Generate a random sample of size 1000 from a binomial distribution with probability of success 0.4\n",
    "and plot a histogram of the results using matplotlib."
   ]
  },
  {
   "cell_type": "code",
   "execution_count": 16,
   "id": "debc5751-f482-4227-9ca0-70a3de4676bb",
   "metadata": {},
   "outputs": [
    {
     "data": {
      "image/png": "[encoded data removed]",
      "text/plain": [
       "<Figure size 640x480 with 1 Axes>"
      ]
     },
     "metadata": {},
     "output_type": "display_data"
    }
   ],
   "source": [
    "import numpy as np\n",
    "import matplotlib.pyplot as plt\n",
    "\n",
    "# Generate a random sample of size 1000 from a binomial distribution with probability of success 0.4\n",
    "samples = np.random.binomial(10, 0.4, 1000)\n",
    "\n",
    "# Plot a histogram of the samples\n",
    "plt.hist(samples)\n",
    "\n",
    "# Add a title and labels to the axes\n",
    "plt.title(\"Binomial Distribution with p = 0.4\")\n",
    "plt.xlabel(\"Number of successes\")\n",
    "plt.ylabel(\"Number of samples\")\n",
    "\n",
    "# Show the plot\n",
    "plt.show()\n"
   ]
  },
  {
   "cell_type": "markdown",
   "id": "4baa5f7f-a019-40cb-b01d-c7d2fe3c1974",
   "metadata": {},
   "source": [
    "Q6. Write a Python function to calculate the cumulative distribution function of a Poisson distribution\n",
    "with given mean at a given point."
   ]
  },
  {
   "cell_type": "code",
   "execution_count": 19,
   "id": "26334ef8-dc1e-485f-86d1-ea3a57007265",
   "metadata": {},
   "outputs": [],
   "source": [
    "\n",
    "\n",
    "def poisson_cdf(mean, point):\n",
    " \n",
    "\n",
    "\n",
    "  cdf = 0\n",
    "\n",
    " \n",
    "  for k in range(0, point + 1):\n",
    "    \n",
    "    prob = np.exp(-mean) * mean**k / np.math.factorial(k)\n",
    "\n",
    "    \n",
    "    cdf += prob\n",
    "\n",
    "  return cdf\n",
    "\n"
   ]
  },
  {
   "cell_type": "code",
   "execution_count": 20,
   "id": "fa1d9e34-4729-49ae-ab38-ac2ac5b9bca8",
   "metadata": {},
   "outputs": [
    {
     "data": {
      "text/plain": [
       "0.8096500884346276"
      ]
     },
     "execution_count": 20,
     "metadata": {},
     "output_type": "execute_result"
    }
   ],
   "source": [
    "poisson_cdf(40,45)"
   ]
  },
  {
   "cell_type": "markdown",
   "id": "743bf398-6c54-4093-9d2f-cf2755056f49",
   "metadata": {},
   "source": [
    "Q7. How Binomial distribution different from Poisson distribution?"
   ]
  },
  {
   "cell_type": "code",
   "execution_count": 21,
   "id": "c32fb0a6-789a-47e0-aace-30cb5798ba38",
   "metadata": {},
   "outputs": [
    {
     "data": {
      "text/plain": [
       "'The binomial distribution is a discrete probability distribution that describes the number of successes in a sequence of independent\\nexperiments, each of which has a constant probability of success. The Poisson distribution is a discrete probability distribution that\\ndescribes the number of events that occur in a fixed interval of time or space.\\nThe binomial distribution is used to model the number of successes in a sequence of independent experiments, each of which has\\na constant probability of success. For example, we could use the binomial distribution to model the number of heads we get when we\\nflip a coin 10 times, or the number of people who get sick after being exposed to a virus.\\nThe Poisson distribution is used to model the number of events that occur in a fixed interval of time or space. For example, we could \\nuse the Poisson distribution to model the number of phone calls that come into a call center in an hour, or the number of accidents that\\noccur on a highway in a day.\\nThe binomial distribution and the Poisson distribution are both discrete probability distributions, but they have different properties. \\nThe binomial distribution is a symmetric distribution, while the Poisson distribution is skewed. The binomial distribution has a mean\\nand variance that are equal, while the Poisson distribution has a mean that is equal to its variance.\\nThe binomial distribution is a more general distribution than the Poisson distribution. The Poisson distribution is a special case \\nof the binomial distribution when the number of trials is large and the probability of success is small.'"
      ]
     },
     "execution_count": 21,
     "metadata": {},
     "output_type": "execute_result"
    }
   ],
   "source": [
    "\"\"\"The binomial distribution is a discrete probability distribution that describes the number of successes in a sequence of independent\n",
    "experiments, each of which has a constant probability of success. The Poisson distribution is a discrete probability distribution that\n",
    "describes the number of events that occur in a fixed interval of time or space.\n",
    "The binomial distribution is used to model the number of successes in a sequence of independent experiments, each of which has\n",
    "a constant probability of success. For example, we could use the binomial distribution to model the number of heads we get when we\n",
    "flip a coin 10 times, or the number of people who get sick after being exposed to a virus.\n",
    "The Poisson distribution is used to model the number of events that occur in a fixed interval of time or space. For example, we could \n",
    "use the Poisson distribution to model the number of phone calls that come into a call center in an hour, or the number of accidents that\n",
    "occur on a highway in a day.\n",
    "The binomial distribution and the Poisson distribution are both discrete probability distributions, but they have different properties. \n",
    "The binomial distribution is a symmetric distribution, while the Poisson distribution is skewed. The binomial distribution has a mean\n",
    "and variance that are equal, while the Poisson distribution has a mean that is equal to its variance.\n",
    "The binomial distribution is a more general distribution than the Poisson distribution. The Poisson distribution is a special case \n",
    "of the binomial distribution when the number of trials is large and the probability of success is small.\"\"\""
   ]
  },
  {
   "cell_type": "markdown",
   "id": "b590295a-edd9-4c4f-a423-fd745371cacf",
   "metadata": {},
   "source": [
    "Q8. Generate a random sample of size 1000 from a Poisson distribution with mean 5 and calculate the\n",
    "sample mean and variance."
   ]
  },
  {
   "cell_type": "code",
   "execution_count": 22,
   "id": "3d1b3547-1a5d-4469-b03a-abdc337a25e4",
   "metadata": {},
   "outputs": [
    {
     "name": "stdout",
     "output_type": "stream",
     "text": [
      "Sample mean: 5.003\n",
      "Sample variance: 4.790991000000001\n"
     ]
    }
   ],
   "source": [
    "import numpy as np\n",
    "\n",
    "\n",
    "samples = np.random.poisson(5, 1000)\n",
    "\n",
    "\n",
    "mean = np.mean(samples)\n",
    "\n",
    "variance = np.var(samples)\n",
    "\n",
    "\n",
    "print(\"Sample mean:\", mean)\n",
    "print(\"Sample variance:\", variance)\n",
    "\n"
   ]
  },
  {
   "cell_type": "markdown",
   "id": "a221d9d8-25a7-4e88-98d1-c3606d6b26ee",
   "metadata": {},
   "source": [
    "Q9. How mean and variance are related in Binomial distribution and Poisson distribution?"
   ]
  },
  {
   "cell_type": "code",
   "execution_count": 23,
   "id": "210fe510-cce0-4d70-83d7-791016e7be31",
   "metadata": {},
   "outputs": [
    {
     "data": {
      "text/plain": [
       "'The mean and variance of a binomial distribution are related by the formula:\\n\\nVar(X) = np(1-p)\\n\\u200b\\n\\nwhere:\\n* X is the random variable representing the number of successes in a binomial experiment\\n* n is the number of trials in the experiment\\n* p is the probability of success on each trial\\nThe mean and variance of a Poisson distribution are related by the formula:\\n\\nVar(X) = np\\n\\u200b\\n\\nwhere:\\n* X is the random variable representing the number of events in a Poisson process\\n* n is the average number of events per unit time\\nIn both cases, the mean and variance are equal when p = 1/2.'"
      ]
     },
     "execution_count": 23,
     "metadata": {},
     "output_type": "execute_result"
    }
   ],
   "source": [
    "\"\"\"The mean and variance of a binomial distribution are related by the formula:\n",
    "\n",
    "Var(X) = np(1-p)\n",
    "​\n",
    "\n",
    "where:\n",
    "* X is the random variable representing the number of successes in a binomial experiment\n",
    "* n is the number of trials in the experiment\n",
    "* p is the probability of success on each trial\n",
    "The mean and variance of a Poisson distribution are related by the formula:\n",
    "\n",
    "Var(X) = np\n",
    "​\n",
    "\n",
    "where:\n",
    "* X is the random variable representing the number of events in a Poisson process\n",
    "* n is the average number of events per unit time\n",
    "In both cases, the mean and variance are equal when p = 1/2.\"\"\""
   ]
  },
  {
   "cell_type": "markdown",
   "id": "ca86a2f1-7739-4db0-b315-bbde987fe018",
   "metadata": {},
   "source": [
    "Q10. In normal distribution with respect to mean position, where does the least frequent data appear?"
   ]
  },
  {
   "cell_type": "code",
   "execution_count": 24,
   "id": "77b9917f-8382-4156-878d-0e63b8efa8c4",
   "metadata": {},
   "outputs": [
    {
     "data": {
      "text/plain": [
       "'The least frequent data in a normal distribution appears at the tails of the distribution. This is because the normal\\ndistribution is a symmetric distribution, with the mean in the center and the tails extending to the left and right. \\nThe tails of the distribution contain the least frequent data because they are the areas where the distribution is the thinnest.'"
      ]
     },
     "execution_count": 24,
     "metadata": {},
     "output_type": "execute_result"
    }
   ],
   "source": [
    "\"\"\"The least frequent data in a normal distribution appears at the tails of the distribution. This is because the normal\n",
    "distribution is a symmetric distribution, with the mean in the center and the tails extending to the left and right. \n",
    "The tails of the distribution contain the least frequent data because they are the areas where the distribution is the thinnest.\"\"\""
   ]
  },
  {
   "cell_type": "code",
   "execution_count": null,
   "id": "76ec7bc3-5665-4790-a917-355218b088aa",
   "metadata": {},
   "outputs": [],
   "source": []
  }
 ],
 "metadata": {
  "kernelspec": {
   "display_name": "Python 3 (ipykernel)",
   "language": "python",
   "name": "python3"
  },
  "language_info": {
   "codemirror_mode": {
    "name": "ipython",
    "version": 3
   },
   "file_extension": ".py",
   "mimetype": "text/x-python",
   "name": "python",
   "nbconvert_exporter": "python",
   "pygments_lexer": "ipython3",
   "version": "3.10.8"
  }
 },
 "nbformat": 4,
 "nbformat_minor": 5
}
