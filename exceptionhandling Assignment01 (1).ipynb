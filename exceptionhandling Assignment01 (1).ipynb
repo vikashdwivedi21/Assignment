{
 "cells": [
  {
   "cell_type": "code",
   "execution_count": 5,
   "id": "b3dfb4f9-dd48-4352-bfed-26c8be7a3bf5",
   "metadata": {},
   "outputs": [
    {
     "data": {
      "text/plain": [
       "'while Syntax error is a mistake in the structure of the program that prevents it from running\\nand Detected by the Python compiler at compile time.'"
      ]
     },
     "execution_count": 5,
     "metadata": {},
     "output_type": "execute_result"
    }
   ],
   "source": [
    "# Q1. what is exception in python? Write the diffrence between exception and syntax error\n",
    "\n",
    "\"\"\"In Python, an exception is an event that occurs during the execution of a program that\n",
    "disrupts the normal flow of the program's instructions. When a Python script encounters \n",
    "a situation that it cannot cope with, it raises an exception. An exception is a Python object\n",
    "that represents an error.\"\"\"\n",
    "\n",
    "\n",
    "\"\"\"while Syntax error is a mistake in the structure of the program that prevents it from running\n",
    "and Detected by the Python compiler at compile time.\"\"\""
   ]
  },
  {
   "cell_type": "code",
   "execution_count": 7,
   "id": "8410833d-c846-4a6e-8ed4-0920cee094f7",
   "metadata": {},
   "outputs": [
    {
     "name": "stdin",
     "output_type": "stream",
     "text": [
      "Enter a number:  0\n"
     ]
    },
    {
     "ename": "ZeroDivisionError",
     "evalue": "division by zero",
     "output_type": "error",
     "traceback": [
      "\u001b[0;31m---------------------------------------------------------------------------\u001b[0m",
      "\u001b[0;31mZeroDivisionError\u001b[0m                         Traceback (most recent call last)",
      "Cell \u001b[0;32mIn[7], line 11\u001b[0m\n\u001b[1;32m      8\u001b[0m     result \u001b[38;5;241m=\u001b[39m \u001b[38;5;241m10\u001b[39m \u001b[38;5;241m/\u001b[39m \u001b[38;5;28mint\u001b[39m(number)\n\u001b[1;32m      9\u001b[0m     \u001b[38;5;28mprint\u001b[39m(result)\n\u001b[0;32m---> 11\u001b[0m \u001b[43mdivide_by_zero\u001b[49m\u001b[43m(\u001b[49m\u001b[43m)\u001b[49m\n",
      "Cell \u001b[0;32mIn[7], line 8\u001b[0m, in \u001b[0;36mdivide_by_zero\u001b[0;34m()\u001b[0m\n\u001b[1;32m      6\u001b[0m \u001b[38;5;28;01mdef\u001b[39;00m \u001b[38;5;21mdivide_by_zero\u001b[39m():\n\u001b[1;32m      7\u001b[0m     number \u001b[38;5;241m=\u001b[39m \u001b[38;5;28minput\u001b[39m(\u001b[38;5;124m\"\u001b[39m\u001b[38;5;124mEnter a number: \u001b[39m\u001b[38;5;124m\"\u001b[39m)\n\u001b[0;32m----> 8\u001b[0m     result \u001b[38;5;241m=\u001b[39m \u001b[38;5;241;43m10\u001b[39;49m\u001b[43m \u001b[49m\u001b[38;5;241;43m/\u001b[39;49m\u001b[43m \u001b[49m\u001b[38;5;28;43mint\u001b[39;49m\u001b[43m(\u001b[49m\u001b[43mnumber\u001b[49m\u001b[43m)\u001b[49m\n\u001b[1;32m      9\u001b[0m     \u001b[38;5;28mprint\u001b[39m(result)\n",
      "\u001b[0;31mZeroDivisionError\u001b[0m: division by zero"
     ]
    }
   ],
   "source": [
    "#Q2. What happens when exception is not handled? explain with example\n",
    "\n",
    "\"\"\" If an exception is not handled in Python, the program will terminate abruptly. The Python interpreter will\n",
    "print a stack trace, which shows the line of code where the exception occurred, as well as the types of exceptions that were raised.\"\"\"\n",
    "\n",
    "def divide_by_zero():\n",
    "    number = input(\"Enter a number: \")\n",
    "    result = 10 / int(number)\n",
    "    print(result)\n",
    "\n",
    "divide_by_zero()\n",
    "\n"
   ]
  },
  {
   "cell_type": "code",
   "execution_count": 11,
   "id": "333b6712-3f0e-4027-8993-26030efc07ec",
   "metadata": {},
   "outputs": [
    {
     "name": "stdout",
     "output_type": "stream",
     "text": [
      "list index out of range\n"
     ]
    }
   ],
   "source": [
    "#Q3.Which python statment are use to catch and handle exception with example\n",
    "try:\n",
    "    my_list = [1,6,4,8,5]\n",
    "    print(my_list[10])\n",
    "except Exception as e:\n",
    "    print(e)"
   ]
  },
  {
   "cell_type": "code",
   "execution_count": 16,
   "id": "afb05296-bbd7-49fe-9ab6-a096a1a55085",
   "metadata": {},
   "outputs": [
    {
     "name": "stdout",
     "output_type": "stream",
     "text": [
      "somthing error happning\n",
      "hello programmer\n"
     ]
    },
    {
     "name": "stdin",
     "output_type": "stream",
     "text": [
      "Enter a number:  10\n"
     ]
    },
    {
     "name": "stdout",
     "output_type": "stream",
     "text": [
      "1.0\n"
     ]
    }
   ],
   "source": [
    "#Q4.Explain with example:\n",
    "\n",
    "#a. try and else, b.finally, \n",
    "try:\n",
    "    \n",
    "    file = open(\"test001\",'r')\n",
    "    file.write(\"this is my program\")\n",
    "    \n",
    "except:\n",
    "    print(\"somthing error happning\")\n",
    "    \n",
    "else:\n",
    "    print(\"Everything is fine\")\n",
    "    \n",
    "finally:\n",
    "    print(\"hello programmer\")\n",
    " \n",
    "\n",
    "\n",
    " #c. raise\n",
    "def divide_by_zero():\n",
    "  number = input(\"Enter a number: \")\n",
    "  try:\n",
    "    result = 10 / int(number)\n",
    "    print(result)\n",
    "  except ValueError:\n",
    "    raise ValueError(\"Invalid input. Please enter a valid number.\")\n",
    "\n",
    "divide_by_zero()\n",
    "    \n",
    " \n",
    "\n",
    "    \n",
    "    \n",
    "   "
   ]
  },
  {
   "cell_type": "markdown",
   "id": "c10c568e-4fd0-4810-9875-b7b2cf84c8bc",
   "metadata": {},
   "source": [
    "#Q5. What are custom exception in python why do we need custom exceptions expalin with examples\n",
    "\n",
    "\"\"\"om exception is a user-defined exception class. It is a subclass of the built-in Exception class. Custom exceptions are used to raise exceptions that are specific to your program\"\"\""
   ]
  },
  {
   "cell_type": "code",
   "execution_count": 25,
   "id": "66252f58-3d0f-45f9-8c16-7c289ce7459a",
   "metadata": {},
   "outputs": [
    {
     "name": "stdout",
     "output_type": "stream",
     "text": [
      "This is my custom exception\n"
     ]
    }
   ],
   "source": [
    "#Q5. What are custom exception in python why do we need custom exceptions expalin with examples\n",
    "\n",
    "\"\"\"om exception is a user-defined exception class. It is a subclass of\n",
    "the built-in Exception class. Custom exceptions are used to raise exceptions that \n",
    "are specific to our program\"\"\"\n",
    "\n",
    "class CustomException(Exception):\n",
    "    \"\"\" my custom exception class \"\"\"\n",
    "\n",
    "\n",
    "try:\n",
    "    raise CustomException('This is my custom exception')\n",
    "except CustomException as ex:\n",
    "    print(ex)"
   ]
  },
  {
   "cell_type": "code",
   "execution_count": 24,
   "id": "0d880068-7616-47da-b446-3dd2a37e2c1f",
   "metadata": {},
   "outputs": [
    {
     "name": "stdin",
     "output_type": "stream",
     "text": [
      "enter your age 900\n"
     ]
    },
    {
     "name": "stdout",
     "output_type": "stream",
     "text": [
      "enter valid age\n"
     ]
    }
   ],
   "source": [
    "#Q6. create custom exception class and usung class handle exception\n",
    "\n",
    "class Custom_exception(Exception):\n",
    "    def __init__(self,msg):\n",
    "        self.msg = msg\n",
    "        \n",
    "def exception_chack(age):\n",
    "    if age<0 or age> 150:\n",
    "        raise Custom_exception(\"enter valid age\")\n",
    "     \n",
    "    else:\n",
    "        print(\"age is valid\")\n",
    "        \n",
    "        \n",
    "try:\n",
    "    age = int(input(\"enter your age\"))\n",
    "    exception_chack(age)\n",
    "    \n",
    "except  Custom_exception as e:\n",
    "    print(e)\n",
    "    \n",
    "    \n",
    "    "
   ]
  },
  {
   "cell_type": "code",
   "execution_count": null,
   "id": "4ff2ffa7-e586-4057-a56b-ea3ddfe0f037",
   "metadata": {},
   "outputs": [],
   "source": []
  }
 ],
 "metadata": {
  "kernelspec": {
   "display_name": "Python 3 (ipykernel)",
   "language": "python",
   "name": "python3"
  },
  "language_info": {
   "codemirror_mode": {
    "name": "ipython",
    "version": 3
   },
   "file_extension": ".py",
   "mimetype": "text/x-python",
   "name": "python",
   "nbconvert_exporter": "python",
   "pygments_lexer": "ipython3",
   "version": "3.10.8"
  }
 },
 "nbformat": 4,
 "nbformat_minor": 5
}
